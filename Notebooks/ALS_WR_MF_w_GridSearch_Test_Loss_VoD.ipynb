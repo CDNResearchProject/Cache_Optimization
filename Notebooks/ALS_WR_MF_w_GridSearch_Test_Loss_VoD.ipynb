{
 "cells": [
  {
   "cell_type": "code",
   "execution_count": null,
   "id": "44f467cc",
   "metadata": {},
   "outputs": [],
   "source": [
    "# experiment with things that would be useful and make sense, not random stuff."
   ]
  },
  {
   "cell_type": "code",
   "execution_count": 4,
   "id": "60aa47ee",
   "metadata": {},
   "outputs": [],
   "source": [
    "# alternating least squares with weighted regularization\n",
    "# loading packages\n",
    "\n",
    "import numpy as np\n",
    "import pandas as pd\n",
    "import matplotlib.pyplot as plt\n",
    "from itertools import product\n",
    "from collections import namedtuple\n",
    "from sklearn.model_selection import train_test_split\n",
    "from sklearn.metrics import mean_squared_error\n",
    "from typing import Iterable, Any, Dict\n",
    "import pickle\n",
    "\n",
    "\n",
    "from matplotlib.pyplot import rcParams\n",
    "import seaborn as sb"
   ]
  },
  {
   "cell_type": "code",
   "execution_count": 5,
   "id": "9f7a19dd",
   "metadata": {},
   "outputs": [],
   "source": [
    "%matplotlib inline\n",
    "rcParams['figure.figsize'] = 8, 4\n",
    "sb.set_style('whitegrid')"
   ]
  },
  {
   "cell_type": "markdown",
   "id": "c0db4a41",
   "metadata": {},
   "source": [
    "# Data Preparation"
   ]
  },
  {
   "cell_type": "code",
   "execution_count": 6,
   "id": "91a66798",
   "metadata": {},
   "outputs": [],
   "source": [
    "# location for the datasets\n",
    "\n",
    "address2 = 'CSV/cdnelastic_VoD.csv'\n",
    "address = 'CSV/videos.csv'"
   ]
  },
  {
   "cell_type": "code",
   "execution_count": 7,
   "id": "d1fc0325",
   "metadata": {},
   "outputs": [
    {
     "data": {
      "text/html": [
       "<div>\n",
       "<style scoped>\n",
       "    .dataframe tbody tr th:only-of-type {\n",
       "        vertical-align: middle;\n",
       "    }\n",
       "\n",
       "    .dataframe tbody tr th {\n",
       "        vertical-align: top;\n",
       "    }\n",
       "\n",
       "    .dataframe thead th {\n",
       "        text-align: right;\n",
       "    }\n",
       "</style>\n",
       "<table border=\"1\" class=\"dataframe\">\n",
       "  <thead>\n",
       "    <tr style=\"text-align: right;\">\n",
       "      <th></th>\n",
       "      <th>coordinates</th>\n",
       "      <th>timetoserv</th>\n",
       "      <th>uafamily</th>\n",
       "      <th>sid</th>\n",
       "      <th>contenttype</th>\n",
       "      <th>statuscode</th>\n",
       "      <th>uid</th>\n",
       "      <th>protocol</th>\n",
       "      <th>hit</th>\n",
       "      <th>@timestamp</th>\n",
       "      <th>contentpackage</th>\n",
       "      <th>host</th>\n",
       "      <th>assetnumber</th>\n",
       "      <th>livechannel</th>\n",
       "      <th>contentlength</th>\n",
       "    </tr>\n",
       "  </thead>\n",
       "  <tbody>\n",
       "    <tr>\n",
       "      <th>0</th>\n",
       "      <td>1.0</td>\n",
       "      <td>0.022135</td>\n",
       "      <td>16.0</td>\n",
       "      <td>3871</td>\n",
       "      <td>video/mp4</td>\n",
       "      <td>200</td>\n",
       "      <td>NaN</td>\n",
       "      <td>HTTP/1.1</td>\n",
       "      <td>miss</td>\n",
       "      <td>2088-05-13T09:20:46.000Z</td>\n",
       "      <td>55.0</td>\n",
       "      <td>15</td>\n",
       "      <td>54.0</td>\n",
       "      <td>NaN</td>\n",
       "      <td>33963.682540</td>\n",
       "    </tr>\n",
       "    <tr>\n",
       "      <th>1</th>\n",
       "      <td>1.0</td>\n",
       "      <td>0.000248</td>\n",
       "      <td>16.0</td>\n",
       "      <td>3323</td>\n",
       "      <td>video/mp4</td>\n",
       "      <td>200</td>\n",
       "      <td>NaN</td>\n",
       "      <td>HTTP/1.1</td>\n",
       "      <td>hit</td>\n",
       "      <td>2088-05-13T09:20:55.000Z</td>\n",
       "      <td>55.0</td>\n",
       "      <td>15</td>\n",
       "      <td>54.0</td>\n",
       "      <td>NaN</td>\n",
       "      <td>518.730159</td>\n",
       "    </tr>\n",
       "  </tbody>\n",
       "</table>\n",
       "</div>"
      ],
      "text/plain": [
       "   coordinates  timetoserv  uafamily   sid contenttype  statuscode  uid  \\\n",
       "0          1.0    0.022135      16.0  3871   video/mp4         200  NaN   \n",
       "1          1.0    0.000248      16.0  3323   video/mp4         200  NaN   \n",
       "\n",
       "   protocol   hit                @timestamp  contentpackage  host  \\\n",
       "0  HTTP/1.1  miss  2088-05-13T09:20:46.000Z            55.0    15   \n",
       "1  HTTP/1.1   hit  2088-05-13T09:20:55.000Z            55.0    15   \n",
       "\n",
       "   assetnumber  livechannel  contentlength  \n",
       "0         54.0          NaN   33963.682540  \n",
       "1         54.0          NaN     518.730159  "
      ]
     },
     "execution_count": 7,
     "metadata": {},
     "output_type": "execute_result"
    }
   ],
   "source": [
    "# loading the datasets\n",
    "\n",
    "allcols = ['timestamp','statuscode','contentlength','host','timefirstbyte','timetoserv','hit','contenttype',\n",
    "           'cachecontrol','cachename','popname','method','protocol','path','uid','sid','livechannel',\n",
    "           'contentpackage','assetnumber','maxage','coordinates','devicebrand','devicefamily','devicemodel',\n",
    "           'osfamily','uafamily','uamajor','manifest','fragment']\n",
    "somecols = ['@timestamp','statuscode','contentlength','host','timetoserv','hit','contenttype',\n",
    "              'protocol','uid','sid','livechannel','contentpackage','assetnumber','coordinates',\n",
    "              'uafamily']\n",
    "missing_values = ['n/a','na','--','NaN','NA','-']\n",
    "# cdnset2 = pd.read_csv(address2,\n",
    "#                      header=0,\n",
    "#                      nrows=1000000,\n",
    "#                      parse_dates=[0],\n",
    "#                      comment='#',\n",
    "#                      names=somecols,\n",
    "#                      na_values=missing_values\n",
    "#                     )\n",
    "# print(cdnset2.info())\n",
    "cdnset2 = pd.read_csv(address2,  na_values=missing_values)\n",
    "cdnset2.head(2)"
   ]
  },
  {
   "cell_type": "code",
   "execution_count": 7,
   "id": "24358db5",
   "metadata": {},
   "outputs": [],
   "source": [
    "# cdnset = cdnset2[['timestamp', 'uid', 'livechannel']]"
   ]
  },
  {
   "cell_type": "code",
   "execution_count": 8,
   "id": "192b0f05",
   "metadata": {},
   "outputs": [],
   "source": [
    "cdnset = cdnset2[['@timestamp', 'uid', 'contentpackage']]\n",
    "# cdnset = pd.read_csv(address,  na_values=missing_values)"
   ]
  },
  {
   "cell_type": "code",
   "execution_count": 9,
   "id": "3f05610e",
   "metadata": {},
   "outputs": [
    {
     "name": "stdout",
     "output_type": "stream",
     "text": [
      "<class 'pandas.core.frame.DataFrame'>\n",
      "RangeIndex: 3696294 entries, 0 to 3696293\n",
      "Data columns (total 3 columns):\n",
      " #   Column          Dtype  \n",
      "---  ------          -----  \n",
      " 0   @timestamp      object \n",
      " 1   uid             float64\n",
      " 2   contentpackage  float64\n",
      "dtypes: float64(2), object(1)\n",
      "memory usage: 84.6+ MB\n"
     ]
    }
   ],
   "source": [
    "cdnset.info()"
   ]
  },
  {
   "cell_type": "code",
   "execution_count": 10,
   "id": "2b4eff10",
   "metadata": {},
   "outputs": [
    {
     "data": {
      "text/html": [
       "<div>\n",
       "<style scoped>\n",
       "    .dataframe tbody tr th:only-of-type {\n",
       "        vertical-align: middle;\n",
       "    }\n",
       "\n",
       "    .dataframe tbody tr th {\n",
       "        vertical-align: top;\n",
       "    }\n",
       "\n",
       "    .dataframe thead th {\n",
       "        text-align: right;\n",
       "    }\n",
       "</style>\n",
       "<table border=\"1\" class=\"dataframe\">\n",
       "  <thead>\n",
       "    <tr style=\"text-align: right;\">\n",
       "      <th></th>\n",
       "      <th>@timestamp</th>\n",
       "      <th>uid</th>\n",
       "      <th>contentpackage</th>\n",
       "    </tr>\n",
       "  </thead>\n",
       "  <tbody>\n",
       "    <tr>\n",
       "      <th>0</th>\n",
       "      <td>2088-05-13T09:20:46.000Z</td>\n",
       "      <td>NaN</td>\n",
       "      <td>55.0</td>\n",
       "    </tr>\n",
       "    <tr>\n",
       "      <th>1</th>\n",
       "      <td>2088-05-13T09:20:55.000Z</td>\n",
       "      <td>NaN</td>\n",
       "      <td>55.0</td>\n",
       "    </tr>\n",
       "  </tbody>\n",
       "</table>\n",
       "</div>"
      ],
      "text/plain": [
       "                 @timestamp  uid  contentpackage\n",
       "0  2088-05-13T09:20:46.000Z  NaN            55.0\n",
       "1  2088-05-13T09:20:55.000Z  NaN            55.0"
      ]
     },
     "execution_count": 10,
     "metadata": {},
     "output_type": "execute_result"
    }
   ],
   "source": [
    "cdnset.head(2)"
   ]
  },
  {
   "cell_type": "code",
   "execution_count": 11,
   "id": "a4afc95e",
   "metadata": {},
   "outputs": [
    {
     "name": "stderr",
     "output_type": "stream",
     "text": [
      "/tmp/ipykernel_145/1231525476.py:1: SettingWithCopyWarning: \n",
      "A value is trying to be set on a copy of a slice from a DataFrame.\n",
      "Try using .loc[row_indexer,col_indexer] = value instead\n",
      "\n",
      "See the caveats in the documentation: https://pandas.pydata.org/pandas-docs/stable/user_guide/indexing.html#returning-a-view-versus-a-copy\n",
      "  cdnset['@timestamp'] = pd.to_datetime(cdnset['@timestamp'])\n"
     ]
    }
   ],
   "source": [
    "cdnset['@timestamp'] = pd.to_datetime(cdnset['@timestamp'])"
   ]
  },
  {
   "cell_type": "code",
   "execution_count": 12,
   "id": "f9535ef0",
   "metadata": {},
   "outputs": [
    {
     "data": {
      "text/html": [
       "<div>\n",
       "<style scoped>\n",
       "    .dataframe tbody tr th:only-of-type {\n",
       "        vertical-align: middle;\n",
       "    }\n",
       "\n",
       "    .dataframe tbody tr th {\n",
       "        vertical-align: top;\n",
       "    }\n",
       "\n",
       "    .dataframe thead th {\n",
       "        text-align: right;\n",
       "    }\n",
       "</style>\n",
       "<table border=\"1\" class=\"dataframe\">\n",
       "  <thead>\n",
       "    <tr style=\"text-align: right;\">\n",
       "      <th></th>\n",
       "      <th>@timestamp</th>\n",
       "      <th>uid</th>\n",
       "      <th>contentpackage</th>\n",
       "    </tr>\n",
       "  </thead>\n",
       "  <tbody>\n",
       "    <tr>\n",
       "      <th>0</th>\n",
       "      <td>2088-05-13 09:20:46+00:00</td>\n",
       "      <td>NaN</td>\n",
       "      <td>55.0</td>\n",
       "    </tr>\n",
       "    <tr>\n",
       "      <th>1</th>\n",
       "      <td>2088-05-13 09:20:55+00:00</td>\n",
       "      <td>NaN</td>\n",
       "      <td>55.0</td>\n",
       "    </tr>\n",
       "  </tbody>\n",
       "</table>\n",
       "</div>"
      ],
      "text/plain": [
       "                 @timestamp  uid  contentpackage\n",
       "0 2088-05-13 09:20:46+00:00  NaN            55.0\n",
       "1 2088-05-13 09:20:55+00:00  NaN            55.0"
      ]
     },
     "execution_count": 12,
     "metadata": {},
     "output_type": "execute_result"
    }
   ],
   "source": [
    "cdnset.head(2)"
   ]
  },
  {
   "cell_type": "code",
   "execution_count": 13,
   "id": "16082173",
   "metadata": {},
   "outputs": [
    {
     "name": "stdout",
     "output_type": "stream",
     "text": [
      "<class 'pandas.core.frame.DataFrame'>\n",
      "RangeIndex: 3696294 entries, 0 to 3696293\n",
      "Data columns (total 3 columns):\n",
      " #   Column          Dtype              \n",
      "---  ------          -----              \n",
      " 0   @timestamp      datetime64[ns, UTC]\n",
      " 1   uid             float64            \n",
      " 2   contentpackage  float64            \n",
      "dtypes: datetime64[ns, UTC](1), float64(2)\n",
      "memory usage: 84.6 MB\n"
     ]
    }
   ],
   "source": [
    "cdnset.info()"
   ]
  },
  {
   "cell_type": "code",
   "execution_count": 14,
   "id": "96eff417",
   "metadata": {},
   "outputs": [],
   "source": [
    "# removing missing values for user id\n",
    "\n",
    "cdnset3 = cdnset.dropna(subset=['uid'])"
   ]
  },
  {
   "cell_type": "code",
   "execution_count": 15,
   "id": "ad2386a5",
   "metadata": {},
   "outputs": [
    {
     "name": "stdout",
     "output_type": "stream",
     "text": [
      "<class 'pandas.core.frame.DataFrame'>\n",
      "Int64Index: 269957 entries, 53 to 3696265\n",
      "Data columns (total 3 columns):\n",
      " #   Column          Non-Null Count   Dtype              \n",
      "---  ------          --------------   -----              \n",
      " 0   @timestamp      269957 non-null  datetime64[ns, UTC]\n",
      " 1   uid             269957 non-null  float64            \n",
      " 2   contentpackage  269957 non-null  float64            \n",
      "dtypes: datetime64[ns, UTC](1), float64(2)\n",
      "memory usage: 8.2 MB\n"
     ]
    }
   ],
   "source": [
    "cdnset3.info()"
   ]
  },
  {
   "cell_type": "code",
   "execution_count": 16,
   "id": "348429cc",
   "metadata": {},
   "outputs": [],
   "source": [
    "df_cdn = cdnset3.groupby(['uid', 'contentpackage'], as_index=False).count()\n",
    "df_cdn = df_cdn.astype(int)\n",
    "# df_cdn.head(2)"
   ]
  },
  {
   "cell_type": "code",
   "execution_count": 17,
   "id": "3465e123",
   "metadata": {},
   "outputs": [
    {
     "data": {
      "text/html": [
       "<div>\n",
       "<style scoped>\n",
       "    .dataframe tbody tr th:only-of-type {\n",
       "        vertical-align: middle;\n",
       "    }\n",
       "\n",
       "    .dataframe tbody tr th {\n",
       "        vertical-align: top;\n",
       "    }\n",
       "\n",
       "    .dataframe thead th {\n",
       "        text-align: right;\n",
       "    }\n",
       "</style>\n",
       "<table border=\"1\" class=\"dataframe\">\n",
       "  <thead>\n",
       "    <tr style=\"text-align: right;\">\n",
       "      <th></th>\n",
       "      <th>uid</th>\n",
       "      <th>contentpackage</th>\n",
       "      <th>requests</th>\n",
       "    </tr>\n",
       "  </thead>\n",
       "  <tbody>\n",
       "    <tr>\n",
       "      <th>0</th>\n",
       "      <td>24</td>\n",
       "      <td>3528</td>\n",
       "      <td>78</td>\n",
       "    </tr>\n",
       "    <tr>\n",
       "      <th>1</th>\n",
       "      <td>59</td>\n",
       "      <td>918</td>\n",
       "      <td>1</td>\n",
       "    </tr>\n",
       "  </tbody>\n",
       "</table>\n",
       "</div>"
      ],
      "text/plain": [
       "   uid  contentpackage  requests\n",
       "0   24            3528        78\n",
       "1   59             918         1"
      ]
     },
     "execution_count": 17,
     "metadata": {},
     "output_type": "execute_result"
    }
   ],
   "source": [
    "'''\n",
    "find a different way to engineer the ratings, not using frequencies.\n",
    "this is different with liveTV\n",
    "\n",
    "Engineer ratings in a binary way, e.g., yes/no, if requested then yes, otherwise no (binary rating)\n",
    "Research if it makes sense.\n",
    "\n",
    "Looking at the data at the host level for different time windows, very low priority to uid\n",
    "Host based analytics with time. (host/time vs content)\n",
    "\n",
    "'''\n",
    "df_cdn.rename(columns={'@timestamp':'requests'}, inplace=True)\n",
    "df_cdn.head(2)"
   ]
  },
  {
   "cell_type": "code",
   "execution_count": 18,
   "id": "dfc5b760",
   "metadata": {},
   "outputs": [
    {
     "data": {
      "text/plain": [
       "(16109, 3)"
      ]
     },
     "execution_count": 18,
     "metadata": {},
     "output_type": "execute_result"
    }
   ],
   "source": [
    "df_cdn.shape"
   ]
  },
  {
   "cell_type": "code",
   "execution_count": 19,
   "id": "753d7501",
   "metadata": {},
   "outputs": [
    {
     "name": "stdout",
     "output_type": "stream",
     "text": [
      "<class 'pandas.core.frame.DataFrame'>\n",
      "RangeIndex: 16109 entries, 0 to 16108\n",
      "Data columns (total 3 columns):\n",
      " #   Column          Non-Null Count  Dtype\n",
      "---  ------          --------------  -----\n",
      " 0   uid             16109 non-null  int64\n",
      " 1   contentpackage  16109 non-null  int64\n",
      " 2   requests        16109 non-null  int64\n",
      "dtypes: int64(3)\n",
      "memory usage: 377.7 KB\n"
     ]
    }
   ],
   "source": [
    "df_cdn.info()"
   ]
  },
  {
   "cell_type": "code",
   "execution_count": 20,
   "id": "c37adefe",
   "metadata": {},
   "outputs": [
    {
     "name": "stdout",
     "output_type": "stream",
     "text": [
      "unique uid:  3670\n",
      "unique vod:  3422\n"
     ]
    }
   ],
   "source": [
    "print('unique uid: ',len(df_cdn.uid.unique()))\n",
    "print('unique vod: ',len(df_cdn.contentpackage.unique()))"
   ]
  },
  {
   "cell_type": "code",
   "execution_count": 21,
   "id": "99a2acb1",
   "metadata": {},
   "outputs": [
    {
     "name": "stdout",
     "output_type": "stream",
     "text": [
      "5809\n"
     ]
    }
   ],
   "source": [
    "# the maximum number of requests for particular vod\n",
    "\n",
    "kubwa = df_cdn.requests.max()\n",
    "print(kubwa)"
   ]
  },
  {
   "cell_type": "code",
   "execution_count": 22,
   "id": "7e70aabb",
   "metadata": {},
   "outputs": [],
   "source": [
    "#kubwa = df_cdn_freq.timestamp.max()\n",
    "df_cdn['rating'] = np.where(df_cdn.requests==kubwa,\n",
    "                5,\n",
    "                np.where(df_cdn.requests>=0.75*kubwa,\n",
    "                        4,\n",
    "                        np.where(df_cdn.requests>=0.5*kubwa,\n",
    "                                3,\n",
    "                                np.where(df_cdn.requests>=0.25*kubwa,\n",
    "                                        2,\n",
    "                                        np.where(df_cdn.requests>1,\n",
    "                                                1,\n",
    "                                                df_cdn.requests)))))"
   ]
  },
  {
   "cell_type": "code",
   "execution_count": 23,
   "id": "0ece5aba",
   "metadata": {},
   "outputs": [
    {
     "data": {
      "text/html": [
       "<div>\n",
       "<style scoped>\n",
       "    .dataframe tbody tr th:only-of-type {\n",
       "        vertical-align: middle;\n",
       "    }\n",
       "\n",
       "    .dataframe tbody tr th {\n",
       "        vertical-align: top;\n",
       "    }\n",
       "\n",
       "    .dataframe thead th {\n",
       "        text-align: right;\n",
       "    }\n",
       "</style>\n",
       "<table border=\"1\" class=\"dataframe\">\n",
       "  <thead>\n",
       "    <tr style=\"text-align: right;\">\n",
       "      <th></th>\n",
       "      <th>uid</th>\n",
       "      <th>contentpackage</th>\n",
       "      <th>requests</th>\n",
       "      <th>rating</th>\n",
       "    </tr>\n",
       "  </thead>\n",
       "  <tbody>\n",
       "    <tr>\n",
       "      <th>16105</th>\n",
       "      <td>28725</td>\n",
       "      <td>3219</td>\n",
       "      <td>1</td>\n",
       "      <td>1</td>\n",
       "    </tr>\n",
       "    <tr>\n",
       "      <th>16106</th>\n",
       "      <td>28726</td>\n",
       "      <td>2918</td>\n",
       "      <td>31</td>\n",
       "      <td>1</td>\n",
       "    </tr>\n",
       "    <tr>\n",
       "      <th>16107</th>\n",
       "      <td>28729</td>\n",
       "      <td>2829</td>\n",
       "      <td>4</td>\n",
       "      <td>1</td>\n",
       "    </tr>\n",
       "    <tr>\n",
       "      <th>16108</th>\n",
       "      <td>28732</td>\n",
       "      <td>3939</td>\n",
       "      <td>1</td>\n",
       "      <td>1</td>\n",
       "    </tr>\n",
       "  </tbody>\n",
       "</table>\n",
       "</div>"
      ],
      "text/plain": [
       "         uid  contentpackage  requests  rating\n",
       "16105  28725            3219         1       1\n",
       "16106  28726            2918        31       1\n",
       "16107  28729            2829         4       1\n",
       "16108  28732            3939         1       1"
      ]
     },
     "execution_count": 23,
     "metadata": {},
     "output_type": "execute_result"
    }
   ],
   "source": [
    "df_cdn.tail(4)"
   ]
  },
  {
   "cell_type": "code",
   "execution_count": 24,
   "id": "14fb1809",
   "metadata": {},
   "outputs": [],
   "source": [
    "df_cdn1 = df_cdn[['uid','contentpackage','rating']]"
   ]
  },
  {
   "cell_type": "markdown",
   "id": "6c2305bb",
   "metadata": {},
   "source": [
    "### Collaborative filtering will start by constructing a user-item matrix"
   ]
  },
  {
   "cell_type": "code",
   "execution_count": 25,
   "id": "c096c189",
   "metadata": {},
   "outputs": [
    {
     "name": "stdout",
     "output_type": "stream",
     "text": [
      "(3670, 3422)\n"
     ]
    }
   ],
   "source": [
    "'''\n",
    "check on this -> frequent itemsets\n",
    "then do some aggregations;\n",
    "    prediction of what a particular user may want to watch next (maybe based on other similar users),\n",
    "    prediction of popularity of a given item.    \n",
    "\n",
    "'''\n",
    "# creating the matrix\n",
    "\n",
    "ratings1 = df_cdn1.pivot(index='uid', columns='contentpackage').fillna(0, downcast='infer')\n",
    "print(ratings1.shape)\n",
    "\n",
    "\n",
    "# n_users = df_cdn['uid'].unique().shape[0]\n",
    "# n_items = df_cdn['contentpackage'].unique().shape[0]\n",
    "# #print('users:',n_users,'and items:',n_items)\n",
    "# ratings = np.zeros((n_users, n_items))\n",
    "# for row in df_cdn.itertuples(index=False):\n",
    "#     ratings[row.uid - 1, row.contentpackage - 1] = row.rating\n",
    "    \n",
    "# print(ratings)\n",
    "\n"
   ]
  },
  {
   "cell_type": "code",
   "execution_count": 26,
   "id": "f2a03dde",
   "metadata": {},
   "outputs": [
    {
     "name": "stdout",
     "output_type": "stream",
     "text": [
      "(3670, 3422)\n",
      "[[0 0 0 ... 0 0 0]\n",
      " [0 0 0 ... 0 0 0]\n",
      " [0 0 0 ... 0 0 0]\n",
      " ...\n",
      " [0 0 0 ... 0 0 0]\n",
      " [0 0 0 ... 0 0 0]\n",
      " [0 0 0 ... 0 0 1]]\n"
     ]
    }
   ],
   "source": [
    "ratings = np.array(ratings1)\n",
    "print(ratings.shape)\n",
    "print(ratings)"
   ]
  },
  {
   "cell_type": "code",
   "execution_count": 27,
   "id": "32f488c2",
   "metadata": {
    "scrolled": true
   },
   "outputs": [
    {
     "name": "stdout",
     "output_type": "stream",
     "text": [
      "dimension:  (3670, 3422)\n",
      "sparsity: 0.1%\n"
     ]
    },
    {
     "data": {
      "text/plain": [
       "array([[0, 0, 0, ..., 0, 0, 0],\n",
       "       [0, 0, 0, ..., 0, 0, 0],\n",
       "       [0, 0, 0, ..., 0, 0, 0],\n",
       "       ...,\n",
       "       [0, 0, 0, ..., 0, 0, 0],\n",
       "       [0, 0, 0, ..., 0, 0, 0],\n",
       "       [0, 0, 0, ..., 0, 0, 1]])"
      ]
     },
     "execution_count": 27,
     "metadata": {},
     "output_type": "execute_result"
    }
   ],
   "source": [
    "# checking for non-zero elements in the matrix\n",
    "# if dataset too sparse (sparsity below 1%)\n",
    "\n",
    "matrix_size = np.prod(ratings.shape)\n",
    "interaction = np.flatnonzero(ratings).shape[0]\n",
    "sparsity = 100 * (interaction / matrix_size)\n",
    "\n",
    "print('dimension: ', ratings.shape)\n",
    "print('sparsity: {:.1f}%'.format(sparsity))\n",
    "ratings"
   ]
  },
  {
   "cell_type": "code",
   "execution_count": 29,
   "id": "9e15baab",
   "metadata": {
    "scrolled": true
   },
   "outputs": [
    {
     "data": {
      "image/png": "[encoded data removed]",
      "text/plain": [
       "<Figure size 576x288 with 1 Axes>"
      ]
     },
     "metadata": {},
     "output_type": "display_data"
    }
   ],
   "source": [
    "# shows at least one vod is rated by a particular user\n",
    "# thus for random split we will use this for testing algorithm\n",
    "\n",
    "'''\n",
    "improve visualization to see specific number of users who rated how many movies.\n",
    "'''\n",
    "\n",
    "plt.hist(np.sum(ratings != 0, axis = 1), range=[0, 30],histtype = 'stepfilled', bins = 90, label = '# of ratings')\n",
    "plt.axvline(x = 1, color = 'black', linestyle = '--')\n",
    "plt.legend(loc = \"upper right\")\n",
    "plt.show()"
   ]
  },
  {
   "cell_type": "code",
   "execution_count": 30,
   "id": "9efedb4d",
   "metadata": {},
   "outputs": [],
   "source": [
    "# train_test_split for the dataset\n",
    "\n",
    "def create_train_test(ratings):\n",
    "    \n",
    "    test = np.zeros(ratings.shape)\n",
    "    train = ratings.copy()\n",
    "    for user in range(ratings.shape[0]):\n",
    "        test_index = np.random.choice(np.flatnonzero(ratings[user]), size=1, replace=False)\n",
    "\n",
    "        train[user, test_index] = 0.0\n",
    "        test[user, test_index] = ratings[user, test_index]\n",
    "\n",
    "    # making sure train and test set are exclusive\n",
    "    assert np.all(train * test == 0)\n",
    "    return train, test"
   ]
  },
  {
   "cell_type": "code",
   "execution_count": 31,
   "id": "f424acc2",
   "metadata": {},
   "outputs": [
    {
     "data": {
      "text/plain": [
       "array([[0, 0, 0, ..., 0, 0, 0],\n",
       "       [0, 0, 0, ..., 0, 0, 0],\n",
       "       [0, 0, 0, ..., 0, 0, 0],\n",
       "       ...,\n",
       "       [0, 0, 0, ..., 0, 0, 0],\n",
       "       [0, 0, 0, ..., 0, 0, 0],\n",
       "       [0, 0, 0, ..., 0, 0, 0]])"
      ]
     },
     "execution_count": 31,
     "metadata": {},
     "output_type": "execute_result"
    }
   ],
   "source": [
    "# performing the split\n",
    "\n",
    "train, test = create_train_test(ratings)\n",
    "del ratings\n",
    "train"
   ]
  },
  {
   "cell_type": "code",
   "execution_count": null,
   "id": "074045d5",
   "metadata": {},
   "outputs": [],
   "source": []
  },
  {
   "cell_type": "markdown",
   "id": "468f67fb",
   "metadata": {},
   "source": [
    "## Matrix Factorization"
   ]
  },
  {
   "cell_type": "code",
   "execution_count": 32,
   "id": "b9115642",
   "metadata": {},
   "outputs": [],
   "source": [
    "# creating the matrix factorization (MF) class for modeling purpose\n",
    "\n",
    "class WRMFClass:\n",
    "    \"\"\"\n",
    "    Train a matrix factorization model using Alternating Least Squares\n",
    "    to predict empty entries in a matrix\n",
    "    \n",
    "    Parameters\n",
    "    ----------\n",
    "    n_iters : int\n",
    "        number of iterations to train the algorithm\n",
    "        \n",
    "    n_factors : int\n",
    "        number of latent factors to use in matrix \n",
    "        factorization model, some machine-learning libraries\n",
    "        denote this as rank\n",
    "        \n",
    "    reg : float\n",
    "        regularization term for item/user latent factors,\n",
    "        since lambda is a keyword in python we use reg instead\n",
    "    \"\"\"\n",
    "\n",
    "    def __init__(self, n_iters, n_factors, reg):\n",
    "        self.reg = reg\n",
    "        self.n_iters = n_iters\n",
    "        self.n_factors = n_factors  \n",
    "        \n",
    "    def fit(self, train, test):\n",
    "        \"\"\"\n",
    "        pass in training and testing at the same time to record\n",
    "        model convergence, assuming both dataset is in the form\n",
    "        of User x Item matrix with cells as ratings\n",
    "        \"\"\"\n",
    "        self.n_user, self.n_item = train.shape\n",
    "        self.user_factors = np.random.random((self.n_user, self.n_factors))\n",
    "        self.item_factors = np.random.random((self.n_item, self.n_factors))\n",
    "        \n",
    "        # record the training and testing mse for every iteration\n",
    "        # to show convergence later (usually, not worth it for production)\n",
    "        self.test_mse_record  = []\n",
    "        self.train_mse_record = []   \n",
    "        for _ in range(self.n_iters):\n",
    "            self.user_factors = self._als_step(train, self.user_factors, self.item_factors)\n",
    "            self.item_factors = self._als_step(train.T, self.item_factors, self.user_factors) \n",
    "            predictions = self.predict()\n",
    "            test_mse = self.compute_mse(test, predictions)\n",
    "            train_mse = self.compute_mse(train, predictions)\n",
    "            self.test_mse_record.append(test_mse)\n",
    "            self.train_mse_record.append(train_mse)\n",
    "        \n",
    "        return self    \n",
    "    \n",
    "    def _als_step(self, ratings, solve_vecs, fixed_vecs):\n",
    "        \"\"\"\n",
    "        when updating the user matrix,\n",
    "        the item matrix is the fixed vector and vice versa\n",
    "        \"\"\"\n",
    "        A = fixed_vecs.T.dot(fixed_vecs) + np.eye(self.n_factors) * self.reg\n",
    "        b = ratings.dot(fixed_vecs)\n",
    "        A_inv = np.linalg.inv(A)\n",
    "        solve_vecs = b.dot(A_inv)\n",
    "        return solve_vecs\n",
    "    \n",
    "    def predict(self):\n",
    "        \"\"\"predict ratings for every user and item\"\"\"\n",
    "        pred = self.user_factors.dot(self.item_factors.T)\n",
    "        return pred\n",
    "    \n",
    "    @staticmethod\n",
    "    def compute_mse(y_true, y_pred):\n",
    "        \"\"\"ignore zero terms prior to comparing the mse\"\"\"\n",
    "        mask = np.nonzero(y_true)\n",
    "        mse = np.sqrt(mean_squared_error(y_true[mask], y_pred[mask]))\n",
    "        return mse\n",
    "    "
   ]
  },
  {
   "cell_type": "code",
   "execution_count": 33,
   "id": "4755a8c0",
   "metadata": {},
   "outputs": [],
   "source": [
    "# visualizing the training and testing\n",
    "\n",
    "def plot_learning_curve(model):\n",
    "    \"\"\"visualize the training/testing loss\"\"\"\n",
    "    linewidth = 3\n",
    "    plt.plot(model.test_mse_record, label = 'Test', linewidth = linewidth)\n",
    "    plt.plot(model.train_mse_record, label = 'Train', linewidth = linewidth)\n",
    "    plt.xlabel('iterations')\n",
    "    plt.ylabel('RMSE')\n",
    "    plt.legend(loc = 'best')"
   ]
  },
  {
   "cell_type": "code",
   "execution_count": 34,
   "id": "fd863c90",
   "metadata": {
    "scrolled": true
   },
   "outputs": [
    {
     "data": {
      "image/png": "[encoded data removed]",
      "text/plain": [
       "<Figure size 576x288 with 1 Axes>"
      ]
     },
     "metadata": {},
     "output_type": "display_data"
    }
   ],
   "source": [
    "# testing the class to see if it works\n",
    "\n",
    "als = WRMFClass(n_iters = 100, n_factors = 40, reg = 0.01)\n",
    "als.fit(train, test)\n",
    "plot_learning_curve(als)"
   ]
  },
  {
   "cell_type": "code",
   "execution_count": 31,
   "id": "b9154f1f",
   "metadata": {},
   "outputs": [
    {
     "data": {
      "text/plain": [
       "array([[0., 0., 0., ..., 0., 0., 0.],\n",
       "       [0., 0., 0., ..., 0., 0., 0.],\n",
       "       [0., 0., 0., ..., 0., 0., 0.],\n",
       "       ...,\n",
       "       [0., 0., 0., ..., 0., 0., 0.],\n",
       "       [0., 0., 0., ..., 0., 0., 0.],\n",
       "       [0., 0., 0., ..., 0., 0., 0.]])"
      ]
     },
     "execution_count": 31,
     "metadata": {},
     "output_type": "execute_result"
    }
   ],
   "source": [
    "# use model to make predictions\n",
    "\n",
    "x = als.predict()\n",
    "x"
   ]
  },
  {
   "cell_type": "code",
   "execution_count": null,
   "id": "9723922c",
   "metadata": {},
   "outputs": [],
   "source": []
  },
  {
   "cell_type": "markdown",
   "id": "cb689119",
   "metadata": {},
   "source": [
    "### Hyperparameter tuning"
   ]
  },
  {
   "cell_type": "code",
   "execution_count": null,
   "id": "e8572501",
   "metadata": {},
   "outputs": [],
   "source": []
  },
  {
   "cell_type": "code",
   "execution_count": null,
   "id": "9e81efaf",
   "metadata": {},
   "outputs": [],
   "source": []
  },
  {
   "cell_type": "code",
   "execution_count": 32,
   "id": "ec2394c0",
   "metadata": {},
   "outputs": [],
   "source": [
    "# pickle/joblib the trained model\n",
    "\n",
    "with open('WRMF_model','wb') as f:\n",
    "    pickle.dump(als, f)"
   ]
  },
  {
   "cell_type": "code",
   "execution_count": null,
   "id": "e6a9ded6",
   "metadata": {},
   "outputs": [],
   "source": []
  },
  {
   "cell_type": "code",
   "execution_count": 33,
   "id": "fa77a876",
   "metadata": {},
   "outputs": [],
   "source": [
    "# load model and make predictions\n",
    "\n",
    "with open('WRMF_model','rb') as fr:\n",
    "    model = pickle.load(fr)"
   ]
  },
  {
   "cell_type": "code",
   "execution_count": 34,
   "id": "1f04fe27",
   "metadata": {},
   "outputs": [
    {
     "data": {
      "text/plain": [
       "array([[0., 0., 0., ..., 0., 0., 0.],\n",
       "       [0., 0., 0., ..., 0., 0., 0.],\n",
       "       [0., 0., 0., ..., 0., 0., 0.],\n",
       "       ...,\n",
       "       [0., 0., 0., ..., 0., 0., 0.],\n",
       "       [0., 0., 0., ..., 0., 0., 0.],\n",
       "       [0., 0., 0., ..., 0., 0., 0.]])"
      ]
     },
     "execution_count": 34,
     "metadata": {},
     "output_type": "execute_result"
    }
   ],
   "source": [
    "y = model.predict()\n",
    "y"
   ]
  },
  {
   "cell_type": "code",
   "execution_count": null,
   "id": "7ef86f4c",
   "metadata": {},
   "outputs": [],
   "source": []
  },
  {
   "cell_type": "code",
   "execution_count": 28,
   "id": "761b5a1a",
   "metadata": {},
   "outputs": [
    {
     "data": {
      "text/html": [
       "<div>\n",
       "<style scoped>\n",
       "    .dataframe tbody tr th:only-of-type {\n",
       "        vertical-align: middle;\n",
       "    }\n",
       "\n",
       "    .dataframe tbody tr th {\n",
       "        vertical-align: top;\n",
       "    }\n",
       "\n",
       "    .dataframe thead th {\n",
       "        text-align: right;\n",
       "    }\n",
       "</style>\n",
       "<table border=\"1\" class=\"dataframe\">\n",
       "  <thead>\n",
       "    <tr style=\"text-align: right;\">\n",
       "      <th></th>\n",
       "      <th>uid</th>\n",
       "      <th>livechannel</th>\n",
       "      <th>timestamp</th>\n",
       "      <th>rating</th>\n",
       "    </tr>\n",
       "  </thead>\n",
       "  <tbody>\n",
       "    <tr>\n",
       "      <th>0</th>\n",
       "      <td>0</td>\n",
       "      <td>0</td>\n",
       "      <td>16634</td>\n",
       "      <td>3</td>\n",
       "    </tr>\n",
       "    <tr>\n",
       "      <th>1</th>\n",
       "      <td>1</td>\n",
       "      <td>1</td>\n",
       "      <td>18038</td>\n",
       "      <td>3</td>\n",
       "    </tr>\n",
       "    <tr>\n",
       "      <th>2</th>\n",
       "      <td>2</td>\n",
       "      <td>2</td>\n",
       "      <td>3019</td>\n",
       "      <td>1</td>\n",
       "    </tr>\n",
       "    <tr>\n",
       "      <th>3</th>\n",
       "      <td>3</td>\n",
       "      <td>3</td>\n",
       "      <td>18034</td>\n",
       "      <td>3</td>\n",
       "    </tr>\n",
       "    <tr>\n",
       "      <th>4</th>\n",
       "      <td>4</td>\n",
       "      <td>3</td>\n",
       "      <td>406</td>\n",
       "      <td>1</td>\n",
       "    </tr>\n",
       "    <tr>\n",
       "      <th>...</th>\n",
       "      <td>...</td>\n",
       "      <td>...</td>\n",
       "      <td>...</td>\n",
       "      <td>...</td>\n",
       "    </tr>\n",
       "    <tr>\n",
       "      <th>1975</th>\n",
       "      <td>1064</td>\n",
       "      <td>8</td>\n",
       "      <td>5</td>\n",
       "      <td>1</td>\n",
       "    </tr>\n",
       "    <tr>\n",
       "      <th>1976</th>\n",
       "      <td>1065</td>\n",
       "      <td>79</td>\n",
       "      <td>100</td>\n",
       "      <td>1</td>\n",
       "    </tr>\n",
       "    <tr>\n",
       "      <th>1977</th>\n",
       "      <td>1067</td>\n",
       "      <td>116</td>\n",
       "      <td>29</td>\n",
       "      <td>1</td>\n",
       "    </tr>\n",
       "    <tr>\n",
       "      <th>1978</th>\n",
       "      <td>1068</td>\n",
       "      <td>2</td>\n",
       "      <td>8</td>\n",
       "      <td>1</td>\n",
       "    </tr>\n",
       "    <tr>\n",
       "      <th>1979</th>\n",
       "      <td>1069</td>\n",
       "      <td>13</td>\n",
       "      <td>7</td>\n",
       "      <td>1</td>\n",
       "    </tr>\n",
       "  </tbody>\n",
       "</table>\n",
       "<p>1980 rows × 4 columns</p>\n",
       "</div>"
      ],
      "text/plain": [
       "       uid  livechannel  timestamp  rating\n",
       "0        0            0      16634       3\n",
       "1        1            1      18038       3\n",
       "2        2            2       3019       1\n",
       "3        3            3      18034       3\n",
       "4        4            3        406       1\n",
       "...    ...          ...        ...     ...\n",
       "1975  1064            8          5       1\n",
       "1976  1065           79        100       1\n",
       "1977  1067          116         29       1\n",
       "1978  1068            2          8       1\n",
       "1979  1069           13          7       1\n",
       "\n",
       "[1980 rows x 4 columns]"
      ]
     },
     "execution_count": 28,
     "metadata": {},
     "output_type": "execute_result"
    }
   ],
   "source": [
    "df_cdn_frequency"
   ]
  },
  {
   "cell_type": "markdown",
   "id": "fda726f9",
   "metadata": {},
   "source": [
    "# Log Scale"
   ]
  },
  {
   "cell_type": "code",
   "execution_count": 41,
   "id": "e0bae57d",
   "metadata": {},
   "outputs": [],
   "source": [
    "df_cdn_frequency['log_freq']=np.log10(df_cdn_frequency.timestamp)"
   ]
  },
  {
   "cell_type": "code",
   "execution_count": 42,
   "id": "cae7881b",
   "metadata": {},
   "outputs": [
    {
     "data": {
      "text/html": [
       "<div>\n",
       "<style scoped>\n",
       "    .dataframe tbody tr th:only-of-type {\n",
       "        vertical-align: middle;\n",
       "    }\n",
       "\n",
       "    .dataframe tbody tr th {\n",
       "        vertical-align: top;\n",
       "    }\n",
       "\n",
       "    .dataframe thead th {\n",
       "        text-align: right;\n",
       "    }\n",
       "</style>\n",
       "<table border=\"1\" class=\"dataframe\">\n",
       "  <thead>\n",
       "    <tr style=\"text-align: right;\">\n",
       "      <th></th>\n",
       "      <th>uid</th>\n",
       "      <th>livechannel</th>\n",
       "      <th>timestamp</th>\n",
       "      <th>rating</th>\n",
       "      <th>log_freq</th>\n",
       "      <th>log_rating</th>\n",
       "    </tr>\n",
       "  </thead>\n",
       "  <tbody>\n",
       "    <tr>\n",
       "      <th>0</th>\n",
       "      <td>0</td>\n",
       "      <td>0</td>\n",
       "      <td>16634</td>\n",
       "      <td>3</td>\n",
       "      <td>4.220997</td>\n",
       "      <td>10</td>\n",
       "    </tr>\n",
       "    <tr>\n",
       "      <th>1</th>\n",
       "      <td>1</td>\n",
       "      <td>1</td>\n",
       "      <td>18038</td>\n",
       "      <td>3</td>\n",
       "      <td>4.256188</td>\n",
       "      <td>10</td>\n",
       "    </tr>\n",
       "    <tr>\n",
       "      <th>2</th>\n",
       "      <td>2</td>\n",
       "      <td>2</td>\n",
       "      <td>3019</td>\n",
       "      <td>1</td>\n",
       "      <td>3.479863</td>\n",
       "      <td>8</td>\n",
       "    </tr>\n",
       "    <tr>\n",
       "      <th>3</th>\n",
       "      <td>3</td>\n",
       "      <td>3</td>\n",
       "      <td>18034</td>\n",
       "      <td>3</td>\n",
       "      <td>4.256092</td>\n",
       "      <td>10</td>\n",
       "    </tr>\n",
       "    <tr>\n",
       "      <th>4</th>\n",
       "      <td>4</td>\n",
       "      <td>3</td>\n",
       "      <td>406</td>\n",
       "      <td>1</td>\n",
       "      <td>2.608526</td>\n",
       "      <td>6</td>\n",
       "    </tr>\n",
       "    <tr>\n",
       "      <th>...</th>\n",
       "      <td>...</td>\n",
       "      <td>...</td>\n",
       "      <td>...</td>\n",
       "      <td>...</td>\n",
       "      <td>...</td>\n",
       "      <td>...</td>\n",
       "    </tr>\n",
       "    <tr>\n",
       "      <th>1975</th>\n",
       "      <td>1064</td>\n",
       "      <td>8</td>\n",
       "      <td>5</td>\n",
       "      <td>1</td>\n",
       "      <td>0.698970</td>\n",
       "      <td>2</td>\n",
       "    </tr>\n",
       "    <tr>\n",
       "      <th>1976</th>\n",
       "      <td>1065</td>\n",
       "      <td>79</td>\n",
       "      <td>100</td>\n",
       "      <td>1</td>\n",
       "      <td>2.000000</td>\n",
       "      <td>5</td>\n",
       "    </tr>\n",
       "    <tr>\n",
       "      <th>1977</th>\n",
       "      <td>1067</td>\n",
       "      <td>116</td>\n",
       "      <td>29</td>\n",
       "      <td>1</td>\n",
       "      <td>1.462398</td>\n",
       "      <td>3</td>\n",
       "    </tr>\n",
       "    <tr>\n",
       "      <th>1978</th>\n",
       "      <td>1068</td>\n",
       "      <td>2</td>\n",
       "      <td>8</td>\n",
       "      <td>1</td>\n",
       "      <td>0.903090</td>\n",
       "      <td>2</td>\n",
       "    </tr>\n",
       "    <tr>\n",
       "      <th>1979</th>\n",
       "      <td>1069</td>\n",
       "      <td>13</td>\n",
       "      <td>7</td>\n",
       "      <td>1</td>\n",
       "      <td>0.845098</td>\n",
       "      <td>2</td>\n",
       "    </tr>\n",
       "  </tbody>\n",
       "</table>\n",
       "<p>1980 rows × 6 columns</p>\n",
       "</div>"
      ],
      "text/plain": [
       "       uid  livechannel  timestamp  rating  log_freq  log_rating\n",
       "0        0            0      16634       3  4.220997          10\n",
       "1        1            1      18038       3  4.256188          10\n",
       "2        2            2       3019       1  3.479863           8\n",
       "3        3            3      18034       3  4.256092          10\n",
       "4        4            3        406       1  2.608526           6\n",
       "...    ...          ...        ...     ...       ...         ...\n",
       "1975  1064            8          5       1  0.698970           2\n",
       "1976  1065           79        100       1  2.000000           5\n",
       "1977  1067          116         29       1  1.462398           3\n",
       "1978  1068            2          8       1  0.903090           2\n",
       "1979  1069           13          7       1  0.845098           2\n",
       "\n",
       "[1980 rows x 6 columns]"
      ]
     },
     "execution_count": 42,
     "metadata": {},
     "output_type": "execute_result"
    }
   ],
   "source": [
    "df_cdn_frequency"
   ]
  },
  {
   "cell_type": "code",
   "execution_count": 43,
   "id": "d33fd541",
   "metadata": {},
   "outputs": [],
   "source": [
    "df_cdn_frequency['log_rating']=np.rint(df_cdn_frequency.log_freq).astype(int)"
   ]
  },
  {
   "cell_type": "code",
   "execution_count": 44,
   "id": "bfff40f5",
   "metadata": {},
   "outputs": [
    {
     "data": {
      "text/html": [
       "<div>\n",
       "<style scoped>\n",
       "    .dataframe tbody tr th:only-of-type {\n",
       "        vertical-align: middle;\n",
       "    }\n",
       "\n",
       "    .dataframe tbody tr th {\n",
       "        vertical-align: top;\n",
       "    }\n",
       "\n",
       "    .dataframe thead th {\n",
       "        text-align: right;\n",
       "    }\n",
       "</style>\n",
       "<table border=\"1\" class=\"dataframe\">\n",
       "  <thead>\n",
       "    <tr style=\"text-align: right;\">\n",
       "      <th></th>\n",
       "      <th>uid</th>\n",
       "      <th>livechannel</th>\n",
       "      <th>timestamp</th>\n",
       "      <th>rating</th>\n",
       "      <th>log_freq</th>\n",
       "      <th>log_rating</th>\n",
       "    </tr>\n",
       "  </thead>\n",
       "  <tbody>\n",
       "    <tr>\n",
       "      <th>0</th>\n",
       "      <td>0</td>\n",
       "      <td>0</td>\n",
       "      <td>16634</td>\n",
       "      <td>3</td>\n",
       "      <td>4.220997</td>\n",
       "      <td>4</td>\n",
       "    </tr>\n",
       "    <tr>\n",
       "      <th>1</th>\n",
       "      <td>1</td>\n",
       "      <td>1</td>\n",
       "      <td>18038</td>\n",
       "      <td>3</td>\n",
       "      <td>4.256188</td>\n",
       "      <td>4</td>\n",
       "    </tr>\n",
       "    <tr>\n",
       "      <th>2</th>\n",
       "      <td>2</td>\n",
       "      <td>2</td>\n",
       "      <td>3019</td>\n",
       "      <td>1</td>\n",
       "      <td>3.479863</td>\n",
       "      <td>3</td>\n",
       "    </tr>\n",
       "    <tr>\n",
       "      <th>3</th>\n",
       "      <td>3</td>\n",
       "      <td>3</td>\n",
       "      <td>18034</td>\n",
       "      <td>3</td>\n",
       "      <td>4.256092</td>\n",
       "      <td>4</td>\n",
       "    </tr>\n",
       "    <tr>\n",
       "      <th>4</th>\n",
       "      <td>4</td>\n",
       "      <td>3</td>\n",
       "      <td>406</td>\n",
       "      <td>1</td>\n",
       "      <td>2.608526</td>\n",
       "      <td>3</td>\n",
       "    </tr>\n",
       "    <tr>\n",
       "      <th>...</th>\n",
       "      <td>...</td>\n",
       "      <td>...</td>\n",
       "      <td>...</td>\n",
       "      <td>...</td>\n",
       "      <td>...</td>\n",
       "      <td>...</td>\n",
       "    </tr>\n",
       "    <tr>\n",
       "      <th>1975</th>\n",
       "      <td>1064</td>\n",
       "      <td>8</td>\n",
       "      <td>5</td>\n",
       "      <td>1</td>\n",
       "      <td>0.698970</td>\n",
       "      <td>1</td>\n",
       "    </tr>\n",
       "    <tr>\n",
       "      <th>1976</th>\n",
       "      <td>1065</td>\n",
       "      <td>79</td>\n",
       "      <td>100</td>\n",
       "      <td>1</td>\n",
       "      <td>2.000000</td>\n",
       "      <td>2</td>\n",
       "    </tr>\n",
       "    <tr>\n",
       "      <th>1977</th>\n",
       "      <td>1067</td>\n",
       "      <td>116</td>\n",
       "      <td>29</td>\n",
       "      <td>1</td>\n",
       "      <td>1.462398</td>\n",
       "      <td>1</td>\n",
       "    </tr>\n",
       "    <tr>\n",
       "      <th>1978</th>\n",
       "      <td>1068</td>\n",
       "      <td>2</td>\n",
       "      <td>8</td>\n",
       "      <td>1</td>\n",
       "      <td>0.903090</td>\n",
       "      <td>1</td>\n",
       "    </tr>\n",
       "    <tr>\n",
       "      <th>1979</th>\n",
       "      <td>1069</td>\n",
       "      <td>13</td>\n",
       "      <td>7</td>\n",
       "      <td>1</td>\n",
       "      <td>0.845098</td>\n",
       "      <td>1</td>\n",
       "    </tr>\n",
       "  </tbody>\n",
       "</table>\n",
       "<p>1980 rows × 6 columns</p>\n",
       "</div>"
      ],
      "text/plain": [
       "       uid  livechannel  timestamp  rating  log_freq  log_rating\n",
       "0        0            0      16634       3  4.220997           4\n",
       "1        1            1      18038       3  4.256188           4\n",
       "2        2            2       3019       1  3.479863           3\n",
       "3        3            3      18034       3  4.256092           4\n",
       "4        4            3        406       1  2.608526           3\n",
       "...    ...          ...        ...     ...       ...         ...\n",
       "1975  1064            8          5       1  0.698970           1\n",
       "1976  1065           79        100       1  2.000000           2\n",
       "1977  1067          116         29       1  1.462398           1\n",
       "1978  1068            2          8       1  0.903090           1\n",
       "1979  1069           13          7       1  0.845098           1\n",
       "\n",
       "[1980 rows x 6 columns]"
      ]
     },
     "execution_count": 44,
     "metadata": {},
     "output_type": "execute_result"
    }
   ],
   "source": [
    "df_cdn_frequency"
   ]
  },
  {
   "cell_type": "code",
   "execution_count": null,
   "id": "af32f5e5",
   "metadata": {},
   "outputs": [],
   "source": []
  },
  {
   "cell_type": "code",
   "execution_count": null,
   "id": "3ff36c89",
   "metadata": {},
   "outputs": [],
   "source": []
  }
 ],
 "metadata": {
  "kernelspec": {
   "display_name": "Python 3 (ipykernel)",
   "language": "python",
   "name": "python3"
  },
  "language_info": {
   "codemirror_mode": {
    "name": "ipython",
    "version": 3
   },
   "file_extension": ".py",
   "mimetype": "text/x-python",
   "name": "python",
   "nbconvert_exporter": "python",
   "pygments_lexer": "ipython3",
   "version": "3.9.7"
  }
 },
 "nbformat": 4,
 "nbformat_minor": 5
}
