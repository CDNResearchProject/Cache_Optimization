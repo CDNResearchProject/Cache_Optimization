{
 "cells": [
  {
   "cell_type": "code",
   "execution_count": 1,
   "id": "e2fcaf1d",
   "metadata": {},
   "outputs": [],
   "source": [
    "# preprocessing\n",
    "import numpy as np\n",
    "import pandas as pd\n",
    "from sklearn.model_selection import train_test_split"
   ]
  },
  {
   "cell_type": "code",
   "execution_count": 46,
   "id": "12f36d4b",
   "metadata": {},
   "outputs": [
    {
     "name": "stdout",
     "output_type": "stream",
     "text": [
      "<class 'pandas.core.frame.DataFrame'>\n",
      "RangeIndex: 3984430 entries, 0 to 3984429\n",
      "Data columns (total 30 columns):\n",
      " #   Column          Dtype              \n",
      "---  ------          -----              \n",
      " 0   devicemodel     float64            \n",
      " 1   popname         int64              \n",
      " 2   uid             float64            \n",
      " 3   timetoserv      float64            \n",
      " 4   maxage          float64            \n",
      " 5   devicefamily    float64            \n",
      " 6   fragment        bool               \n",
      " 7   coordinates     float64            \n",
      " 8   hit             object             \n",
      " 9   uamajor         float64            \n",
      " 10  cachecontrol    object             \n",
      " 11  timefirstbyte   float64            \n",
      " 12  livechannel     float64            \n",
      " 13  contentpackage  float64            \n",
      " 14  statuscode      int64              \n",
      " 15  uafamily        float64            \n",
      " 16  osfamily        float64            \n",
      " 17  contentlength   float64            \n",
      " 18  @timestamp      datetime64[ns, UTC]\n",
      " 19  @version        int64              \n",
      " 20  host            int64              \n",
      " 21  method          object             \n",
      " 22  assetnumber     float64            \n",
      " 23  path            int64              \n",
      " 24  cachename       int64              \n",
      " 25  sid             int64              \n",
      " 26  protocol        object             \n",
      " 27  manifest        bool               \n",
      " 28  devicebrand     float64            \n",
      " 29  contenttype     object             \n",
      "dtypes: bool(2), datetime64[ns, UTC](1), float64(15), int64(7), object(5)\n",
      "memory usage: 858.8+ MB\n"
     ]
    }
   ],
   "source": [
    "address = '../CSV/VoD_ELK_Parallel.csv'\n",
    "missing_values = ['n/a','na','--','NaN','NA','-']\n",
    "df = pd.read_csv(address, na_values=missing_values, parse_dates=[18])\n",
    "df.info()"
   ]
  },
  {
   "cell_type": "code",
   "execution_count": 48,
   "id": "276c18a8",
   "metadata": {},
   "outputs": [
    {
     "name": "stdout",
     "output_type": "stream",
     "text": [
      "<class 'pandas.core.frame.DataFrame'>\n",
      "RangeIndex: 3984430 entries, 0 to 3984429\n",
      "Data columns (total 3 columns):\n",
      " #   Column          Dtype              \n",
      "---  ------          -----              \n",
      " 0   @timestamp      datetime64[ns, UTC]\n",
      " 1   sid             int64              \n",
      " 2   contentpackage  float64            \n",
      "dtypes: datetime64[ns, UTC](1), float64(1), int64(1)\n",
      "memory usage: 91.2 MB\n"
     ]
    }
   ],
   "source": [
    "# selecting features pertaining to matrix factorization for rating prediction\n",
    "df = df[['@timestamp','sid','contentpackage']]\n",
    "# dropping null values\n",
    "df_clean = df.dropna(subset=['sid'])\n",
    "df_clean.info()"
   ]
  },
  {
   "cell_type": "code",
   "execution_count": 49,
   "id": "edeeba46",
   "metadata": {},
   "outputs": [
    {
     "data": {
      "text/html": [
       "<div>\n",
       "<style scoped>\n",
       "    .dataframe tbody tr th:only-of-type {\n",
       "        vertical-align: middle;\n",
       "    }\n",
       "\n",
       "    .dataframe tbody tr th {\n",
       "        vertical-align: top;\n",
       "    }\n",
       "\n",
       "    .dataframe thead th {\n",
       "        text-align: right;\n",
       "    }\n",
       "</style>\n",
       "<table border=\"1\" class=\"dataframe\">\n",
       "  <thead>\n",
       "    <tr style=\"text-align: right;\">\n",
       "      <th></th>\n",
       "      <th>sid</th>\n",
       "      <th>contentpackage</th>\n",
       "      <th>requests</th>\n",
       "    </tr>\n",
       "  </thead>\n",
       "  <tbody>\n",
       "    <tr>\n",
       "      <th>0</th>\n",
       "      <td>37</td>\n",
       "      <td>3528</td>\n",
       "      <td>78</td>\n",
       "    </tr>\n",
       "    <tr>\n",
       "      <th>1</th>\n",
       "      <td>412</td>\n",
       "      <td>0</td>\n",
       "      <td>1</td>\n",
       "    </tr>\n",
       "  </tbody>\n",
       "</table>\n",
       "</div>"
      ],
      "text/plain": [
       "   sid  contentpackage  requests\n",
       "0   37            3528        78\n",
       "1  412               0         1"
      ]
     },
     "execution_count": 49,
     "metadata": {},
     "output_type": "execute_result"
    }
   ],
   "source": [
    "df_cdn = df_clean.groupby(['sid', 'contentpackage'], as_index=False).count()\n",
    "df_cdn = df_cdn.astype(int)\n",
    "df_cdn.rename(columns={'@timestamp':'requests'}, inplace=True)\n",
    "df_cdn.head(2)"
   ]
  },
  {
   "cell_type": "code",
   "execution_count": 50,
   "id": "ae8d8407",
   "metadata": {},
   "outputs": [
    {
     "data": {
      "text/html": [
       "<div>\n",
       "<style scoped>\n",
       "    .dataframe tbody tr th:only-of-type {\n",
       "        vertical-align: middle;\n",
       "    }\n",
       "\n",
       "    .dataframe tbody tr th {\n",
       "        vertical-align: top;\n",
       "    }\n",
       "\n",
       "    .dataframe thead th {\n",
       "        text-align: right;\n",
       "    }\n",
       "</style>\n",
       "<table border=\"1\" class=\"dataframe\">\n",
       "  <thead>\n",
       "    <tr style=\"text-align: right;\">\n",
       "      <th></th>\n",
       "      <th>sid</th>\n",
       "      <th>contentpackage</th>\n",
       "      <th>requests</th>\n",
       "      <th>log_requests</th>\n",
       "    </tr>\n",
       "  </thead>\n",
       "  <tbody>\n",
       "    <tr>\n",
       "      <th>0</th>\n",
       "      <td>37</td>\n",
       "      <td>3528</td>\n",
       "      <td>78</td>\n",
       "      <td>4</td>\n",
       "    </tr>\n",
       "    <tr>\n",
       "      <th>1</th>\n",
       "      <td>412</td>\n",
       "      <td>0</td>\n",
       "      <td>1</td>\n",
       "      <td>0</td>\n",
       "    </tr>\n",
       "    <tr>\n",
       "      <th>2</th>\n",
       "      <td>414</td>\n",
       "      <td>0</td>\n",
       "      <td>13</td>\n",
       "      <td>3</td>\n",
       "    </tr>\n",
       "  </tbody>\n",
       "</table>\n",
       "</div>"
      ],
      "text/plain": [
       "   sid  contentpackage  requests  log_requests\n",
       "0   37            3528        78             4\n",
       "1  412               0         1             0\n",
       "2  414               0        13             3"
      ]
     },
     "execution_count": 50,
     "metadata": {},
     "output_type": "execute_result"
    }
   ],
   "source": [
    "df_cdn['log_requests'] = np.rint(np.log(df_cdn['requests'])).astype(int)\n",
    "df_cdn.head(3)"
   ]
  },
  {
   "cell_type": "code",
   "execution_count": 51,
   "id": "2f4a6d0b",
   "metadata": {},
   "outputs": [],
   "source": [
    "# this will be reviewed, idea is request = 1 then log_scale = 1 as well\n",
    "df_cdn['log_requests'] = np.where(df_cdn['requests']==1, 1, df_cdn['log_requests'])"
   ]
  },
  {
   "cell_type": "code",
   "execution_count": 52,
   "id": "eb23b320",
   "metadata": {},
   "outputs": [
    {
     "data": {
      "text/html": [
       "<div>\n",
       "<style scoped>\n",
       "    .dataframe tbody tr th:only-of-type {\n",
       "        vertical-align: middle;\n",
       "    }\n",
       "\n",
       "    .dataframe tbody tr th {\n",
       "        vertical-align: top;\n",
       "    }\n",
       "\n",
       "    .dataframe thead th {\n",
       "        text-align: right;\n",
       "    }\n",
       "</style>\n",
       "<table border=\"1\" class=\"dataframe\">\n",
       "  <thead>\n",
       "    <tr style=\"text-align: right;\">\n",
       "      <th></th>\n",
       "      <th>sid</th>\n",
       "      <th>contentpackage</th>\n",
       "      <th>requests</th>\n",
       "      <th>log_requests</th>\n",
       "    </tr>\n",
       "  </thead>\n",
       "  <tbody>\n",
       "    <tr>\n",
       "      <th>0</th>\n",
       "      <td>37</td>\n",
       "      <td>3528</td>\n",
       "      <td>78</td>\n",
       "      <td>4</td>\n",
       "    </tr>\n",
       "    <tr>\n",
       "      <th>1</th>\n",
       "      <td>412</td>\n",
       "      <td>0</td>\n",
       "      <td>1</td>\n",
       "      <td>1</td>\n",
       "    </tr>\n",
       "    <tr>\n",
       "      <th>2</th>\n",
       "      <td>414</td>\n",
       "      <td>0</td>\n",
       "      <td>13</td>\n",
       "      <td>3</td>\n",
       "    </tr>\n",
       "    <tr>\n",
       "      <th>3</th>\n",
       "      <td>415</td>\n",
       "      <td>0</td>\n",
       "      <td>13</td>\n",
       "      <td>3</td>\n",
       "    </tr>\n",
       "    <tr>\n",
       "      <th>4</th>\n",
       "      <td>464</td>\n",
       "      <td>1</td>\n",
       "      <td>1</td>\n",
       "      <td>1</td>\n",
       "    </tr>\n",
       "    <tr>\n",
       "      <th>...</th>\n",
       "      <td>...</td>\n",
       "      <td>...</td>\n",
       "      <td>...</td>\n",
       "      <td>...</td>\n",
       "    </tr>\n",
       "    <tr>\n",
       "      <th>206329</th>\n",
       "      <td>1281499</td>\n",
       "      <td>2753</td>\n",
       "      <td>1</td>\n",
       "      <td>1</td>\n",
       "    </tr>\n",
       "    <tr>\n",
       "      <th>206330</th>\n",
       "      <td>1281500</td>\n",
       "      <td>2753</td>\n",
       "      <td>1</td>\n",
       "      <td>1</td>\n",
       "    </tr>\n",
       "    <tr>\n",
       "      <th>206331</th>\n",
       "      <td>1281501</td>\n",
       "      <td>2753</td>\n",
       "      <td>1</td>\n",
       "      <td>1</td>\n",
       "    </tr>\n",
       "    <tr>\n",
       "      <th>206332</th>\n",
       "      <td>1281502</td>\n",
       "      <td>2753</td>\n",
       "      <td>1</td>\n",
       "      <td>1</td>\n",
       "    </tr>\n",
       "    <tr>\n",
       "      <th>206333</th>\n",
       "      <td>1281503</td>\n",
       "      <td>2753</td>\n",
       "      <td>1</td>\n",
       "      <td>1</td>\n",
       "    </tr>\n",
       "  </tbody>\n",
       "</table>\n",
       "<p>206334 rows × 4 columns</p>\n",
       "</div>"
      ],
      "text/plain": [
       "            sid  contentpackage  requests  log_requests\n",
       "0            37            3528        78             4\n",
       "1           412               0         1             1\n",
       "2           414               0        13             3\n",
       "3           415               0        13             3\n",
       "4           464               1         1             1\n",
       "...         ...             ...       ...           ...\n",
       "206329  1281499            2753         1             1\n",
       "206330  1281500            2753         1             1\n",
       "206331  1281501            2753         1             1\n",
       "206332  1281502            2753         1             1\n",
       "206333  1281503            2753         1             1\n",
       "\n",
       "[206334 rows x 4 columns]"
      ]
     },
     "execution_count": 52,
     "metadata": {},
     "output_type": "execute_result"
    }
   ],
   "source": [
    "df_cdn['log_requests'] = df_cdn['log_requests'].astype(int)\n",
    "df_cdn"
   ]
  },
  {
   "cell_type": "code",
   "execution_count": 53,
   "id": "4f2e17ff",
   "metadata": {},
   "outputs": [],
   "source": [
    "df_matrix = df_cdn[['sid','contentpackage','log_requests']]"
   ]
  },
  {
   "cell_type": "code",
   "execution_count": 54,
   "id": "78a6b388",
   "metadata": {},
   "outputs": [
    {
     "data": {
      "text/html": [
       "<div>\n",
       "<style scoped>\n",
       "    .dataframe tbody tr th:only-of-type {\n",
       "        vertical-align: middle;\n",
       "    }\n",
       "\n",
       "    .dataframe tbody tr th {\n",
       "        vertical-align: top;\n",
       "    }\n",
       "\n",
       "    .dataframe thead th {\n",
       "        text-align: right;\n",
       "    }\n",
       "</style>\n",
       "<table border=\"1\" class=\"dataframe\">\n",
       "  <thead>\n",
       "    <tr style=\"text-align: right;\">\n",
       "      <th></th>\n",
       "      <th>sid</th>\n",
       "      <th>contentpackage</th>\n",
       "      <th>log_requests</th>\n",
       "    </tr>\n",
       "  </thead>\n",
       "  <tbody>\n",
       "    <tr>\n",
       "      <th>0</th>\n",
       "      <td>37</td>\n",
       "      <td>3528</td>\n",
       "      <td>4</td>\n",
       "    </tr>\n",
       "    <tr>\n",
       "      <th>1</th>\n",
       "      <td>412</td>\n",
       "      <td>0</td>\n",
       "      <td>1</td>\n",
       "    </tr>\n",
       "    <tr>\n",
       "      <th>2</th>\n",
       "      <td>414</td>\n",
       "      <td>0</td>\n",
       "      <td>3</td>\n",
       "    </tr>\n",
       "    <tr>\n",
       "      <th>3</th>\n",
       "      <td>415</td>\n",
       "      <td>0</td>\n",
       "      <td>3</td>\n",
       "    </tr>\n",
       "    <tr>\n",
       "      <th>4</th>\n",
       "      <td>464</td>\n",
       "      <td>1</td>\n",
       "      <td>1</td>\n",
       "    </tr>\n",
       "    <tr>\n",
       "      <th>...</th>\n",
       "      <td>...</td>\n",
       "      <td>...</td>\n",
       "      <td>...</td>\n",
       "    </tr>\n",
       "    <tr>\n",
       "      <th>206329</th>\n",
       "      <td>1281499</td>\n",
       "      <td>2753</td>\n",
       "      <td>1</td>\n",
       "    </tr>\n",
       "    <tr>\n",
       "      <th>206330</th>\n",
       "      <td>1281500</td>\n",
       "      <td>2753</td>\n",
       "      <td>1</td>\n",
       "    </tr>\n",
       "    <tr>\n",
       "      <th>206331</th>\n",
       "      <td>1281501</td>\n",
       "      <td>2753</td>\n",
       "      <td>1</td>\n",
       "    </tr>\n",
       "    <tr>\n",
       "      <th>206332</th>\n",
       "      <td>1281502</td>\n",
       "      <td>2753</td>\n",
       "      <td>1</td>\n",
       "    </tr>\n",
       "    <tr>\n",
       "      <th>206333</th>\n",
       "      <td>1281503</td>\n",
       "      <td>2753</td>\n",
       "      <td>1</td>\n",
       "    </tr>\n",
       "  </tbody>\n",
       "</table>\n",
       "<p>206334 rows × 3 columns</p>\n",
       "</div>"
      ],
      "text/plain": [
       "            sid  contentpackage  log_requests\n",
       "0            37            3528             4\n",
       "1           412               0             1\n",
       "2           414               0             3\n",
       "3           415               0             3\n",
       "4           464               1             1\n",
       "...         ...             ...           ...\n",
       "206329  1281499            2753             1\n",
       "206330  1281500            2753             1\n",
       "206331  1281501            2753             1\n",
       "206332  1281502            2753             1\n",
       "206333  1281503            2753             1\n",
       "\n",
       "[206334 rows x 3 columns]"
      ]
     },
     "execution_count": 54,
     "metadata": {},
     "output_type": "execute_result"
    }
   ],
   "source": [
    "df_matrix"
   ]
  },
  {
   "cell_type": "code",
   "execution_count": 56,
   "id": "751166d1",
   "metadata": {},
   "outputs": [
    {
     "name": "stdout",
     "output_type": "stream",
     "text": [
      "unique uid:  187302\n",
      "unique vod:  3940\n"
     ]
    }
   ],
   "source": [
    "print('unique uid: ',len(df_matrix.sid.unique()))\n",
    "print('unique vod: ',len(df_matrix.contentpackage.unique()))"
   ]
  },
  {
   "cell_type": "code",
   "execution_count": 57,
   "id": "7cd5b7bf",
   "metadata": {},
   "outputs": [
    {
     "name": "stdout",
     "output_type": "stream",
     "text": [
      "(144433, 3)\n",
      "(61901, 3)\n"
     ]
    }
   ],
   "source": [
    "# splitting the datasets into train and test sets\n",
    "X_train, X_test = train_test_split(df_matrix, test_size=0.3, random_state=42)\n",
    "print(X_train.shape)\n",
    "print(X_test.shape)"
   ]
  },
  {
   "cell_type": "code",
   "execution_count": 12,
   "id": "266faff4",
   "metadata": {},
   "outputs": [
    {
     "name": "stdout",
     "output_type": "stream",
     "text": [
      "total records 17030\n",
      "17030\n"
     ]
    }
   ],
   "source": [
    "print('total records',len(X_train)+len(X_test))\n",
    "print(len(df_matrix))"
   ]
  },
  {
   "cell_type": "code",
   "execution_count": 13,
   "id": "41be966f",
   "metadata": {},
   "outputs": [],
   "source": [
    "X_train.to_csv('../CSV/VoD_train.csv', index = False, header = False)\n",
    "X_test.to_csv('../CSV/VoD_test.csv', index = False, header = False)"
   ]
  },
  {
   "cell_type": "code",
   "execution_count": null,
   "id": "24b57dcf",
   "metadata": {},
   "outputs": [],
   "source": [
    "# import sys\n",
    "# sys.path.append(\"/home/jovyan/work/MyMediaLite-3.11/lib/mymedialite\")\n",
    "\n",
    "import clr\n",
    "clr.AddReference('/home/jovyan/work/MyMediaLite-3.11/lib/mymedialite/MyMediaLite.dll')\n",
    "# from MyMediaLite import *\n",
    "from MyMediaLite import IO\n",
    "from MyMediaLite import RatingPrediction\n",
    "from MyMediaLite import Eval\n",
    "\n",
    "# load the data\n",
    "train_data = IO.RatingData.Read('../CSV/VoD_train.csv')\n",
    "test_data  = IO.RatingData.Read('../CSV/VoD_test.csv')\n",
    "\n",
    "# set up the recommender\n",
    "# recommender = RatingPrediction.UserItemBaseline() # don't forget ()\n",
    "recommender = RatingPrediction.BiasedMatrixFactorization()\n",
    "# recommender.Regularization = 0.015\n",
    "# recommender.RegU = 0.05\n",
    "# recommender.RegI = 0.05\n",
    "recommender.Regularization = 0.06\n",
    "recommender.LearnRate = 0.07\n",
    "recommender.NumFactors = 60\n",
    "recommender.NumIter = 100\n",
    "recommender.Ratings = train_data\n",
    "recommender.Train()\n",
    "# num_factors=60 bias_reg=0.001 regularization=0.060 learn_rate=0.07 num_iter=100 bold_driver=true\n",
    "# measure the accuracy on the test data set\n",
    "print('evaluation on test data:',Eval.Ratings.Evaluate(recommender, test_data))\n",
    "\n",
    "# measure the accuracy on the train data set\n",
    "print('evaluation on train data:',Eval.Ratings.Evaluate(recommender, train_data))\n",
    "\n",
    "# make a prediction for a certain user and item\n",
    "print(recommender.Predict(2, 2))"
   ]
  },
  {
   "cell_type": "code",
   "execution_count": 34,
   "id": "61cb0e76",
   "metadata": {},
   "outputs": [
    {
     "name": "stdout",
     "output_type": "stream",
     "text": [
      "latent factors: 20 learn rate: 0.005 regi: 0.05 regu: 0.05 iterations: 30\n"
     ]
    }
   ],
   "source": [
    "print('latent factors:',recommender.NumFactors,'learn rate:',recommender.LearnRate,\n",
    "      'regi:',recommender.RegI,'regu:',recommender.RegU,'iterations:',recommender.NumIter)\n",
    "#       'regularization',recommender.Regularization)"
   ]
  },
  {
   "cell_type": "code",
   "execution_count": null,
   "id": "819aaadb",
   "metadata": {},
   "outputs": [],
   "source": []
  },
  {
   "cell_type": "code",
   "execution_count": null,
   "id": "e17cfc40",
   "metadata": {},
   "outputs": [],
   "source": []
  }
 ],
 "metadata": {
  "kernelspec": {
   "display_name": "Python 3 (ipykernel)",
   "language": "python",
   "name": "python3"
  },
  "language_info": {
   "codemirror_mode": {
    "name": "ipython",
    "version": 3
   },
   "file_extension": ".py",
   "mimetype": "text/x-python",
   "name": "python",
   "nbconvert_exporter": "python",
   "pygments_lexer": "ipython3",
   "version": "3.9.10"
  }
 },
 "nbformat": 4,
 "nbformat_minor": 5
}
