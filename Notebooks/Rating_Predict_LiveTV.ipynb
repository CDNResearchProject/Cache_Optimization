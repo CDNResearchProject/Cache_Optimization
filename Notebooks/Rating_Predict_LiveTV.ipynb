{
 "cells": [
  {
   "cell_type": "code",
   "execution_count": 1,
   "id": "e2fcaf1d",
   "metadata": {},
   "outputs": [],
   "source": [
    "# preprocessing\n",
    "import numpy as np\n",
    "import pandas as pd\n",
    "from sklearn.model_selection import train_test_split"
   ]
  },
  {
   "cell_type": "code",
   "execution_count": 12,
   "id": "12f36d4b",
   "metadata": {},
   "outputs": [
    {
     "name": "stdout",
     "output_type": "stream",
     "text": [
      "<class 'pandas.core.frame.DataFrame'>\n",
      "RangeIndex: 10000000 entries, 0 to 9999999\n",
      "Data columns (total 29 columns):\n",
      " #   Column          Dtype         \n",
      "---  ------          -----         \n",
      " 0   timestamp       datetime64[ns]\n",
      " 1   statuscode      int64         \n",
      " 2   contentlength   float64       \n",
      " 3   host            int64         \n",
      " 4   timefirstbyte   float64       \n",
      " 5   timetoserv      float64       \n",
      " 6   hit             object        \n",
      " 7   contenttype     object        \n",
      " 8   cachecontrol    object        \n",
      " 9   cachename       int64         \n",
      " 10  popname         int64         \n",
      " 11  method          object        \n",
      " 12  protocol        object        \n",
      " 13  path            int64         \n",
      " 14  uid             float64       \n",
      " 15  sid             float64       \n",
      " 16  livechannel     float64       \n",
      " 17  contentpackage  float64       \n",
      " 18  assetnumber     float64       \n",
      " 19  maxage          float64       \n",
      " 20  coordinates     float64       \n",
      " 21  devicebrand     float64       \n",
      " 22  devicefamily    float64       \n",
      " 23  devicemodel     float64       \n",
      " 24  osfamily        float64       \n",
      " 25  uafamily        float64       \n",
      " 26  uamajor         float64       \n",
      " 27  manifest        bool          \n",
      " 28  fragment        bool          \n",
      "dtypes: bool(2), datetime64[ns](1), float64(16), int64(5), object(5)\n",
      "memory usage: 2.0+ GB\n",
      "None\n"
     ]
    }
   ],
   "source": [
    "address = '/cdnlogs/batch3/1-1.bz2.ano.bz2'\n",
    "allcols = ['timestamp','statuscode','contentlength','host','timefirstbyte','timetoserv','hit','contenttype',\n",
    "           'cachecontrol','cachename','popname','method','protocol','path','uid','sid','livechannel',\n",
    "           'contentpackage','assetnumber','maxage','coordinates','devicebrand','devicefamily','devicemodel',\n",
    "           'osfamily','uafamily','uamajor','manifest','fragment']\n",
    "missing_values = ['n/a','na','--','NaN','NA','-']\n",
    "df = pd.read_csv(address,\n",
    "                     header=0,\n",
    "                     nrows=10000000,\n",
    "                     parse_dates=[0],\n",
    "                     comment='#',\n",
    "                     names=allcols,\n",
    "                     na_values=missing_values\n",
    "                    )\n",
    "print(df.info())"
   ]
  },
  {
   "cell_type": "code",
   "execution_count": 13,
   "id": "276c18a8",
   "metadata": {},
   "outputs": [
    {
     "name": "stdout",
     "output_type": "stream",
     "text": [
      "<class 'pandas.core.frame.DataFrame'>\n",
      "Int64Index: 4982835 entries, 2 to 9999998\n",
      "Data columns (total 3 columns):\n",
      " #   Column       Dtype         \n",
      "---  ------       -----         \n",
      " 0   timestamp    datetime64[ns]\n",
      " 1   uid          float64       \n",
      " 2   livechannel  float64       \n",
      "dtypes: datetime64[ns](1), float64(2)\n",
      "memory usage: 152.1 MB\n"
     ]
    }
   ],
   "source": [
    "# selecting features pertaining to matrix factorization for rating prediction\n",
    "df = df[['timestamp','uid','livechannel']]\n",
    "# dropping null values\n",
    "df_clean = df.dropna(subset=['uid'])\n",
    "df_clean.info()"
   ]
  },
  {
   "cell_type": "code",
   "execution_count": 14,
   "id": "edeeba46",
   "metadata": {},
   "outputs": [
    {
     "data": {
      "text/html": [
       "<div>\n",
       "<style scoped>\n",
       "    .dataframe tbody tr th:only-of-type {\n",
       "        vertical-align: middle;\n",
       "    }\n",
       "\n",
       "    .dataframe tbody tr th {\n",
       "        vertical-align: top;\n",
       "    }\n",
       "\n",
       "    .dataframe thead th {\n",
       "        text-align: right;\n",
       "    }\n",
       "</style>\n",
       "<table border=\"1\" class=\"dataframe\">\n",
       "  <thead>\n",
       "    <tr style=\"text-align: right;\">\n",
       "      <th></th>\n",
       "      <th>uid</th>\n",
       "      <th>livechannel</th>\n",
       "      <th>requests</th>\n",
       "    </tr>\n",
       "  </thead>\n",
       "  <tbody>\n",
       "    <tr>\n",
       "      <th>0</th>\n",
       "      <td>0</td>\n",
       "      <td>0</td>\n",
       "      <td>16634</td>\n",
       "    </tr>\n",
       "    <tr>\n",
       "      <th>1</th>\n",
       "      <td>1</td>\n",
       "      <td>1</td>\n",
       "      <td>18038</td>\n",
       "    </tr>\n",
       "  </tbody>\n",
       "</table>\n",
       "</div>"
      ],
      "text/plain": [
       "   uid  livechannel  requests\n",
       "0    0            0     16634\n",
       "1    1            1     18038"
      ]
     },
     "execution_count": 14,
     "metadata": {},
     "output_type": "execute_result"
    }
   ],
   "source": [
    "df_cdn = df_clean.groupby(['uid', 'livechannel'], as_index=False).count()\n",
    "df_cdn = df_cdn.astype(int)\n",
    "df_cdn.rename(columns={'timestamp':'requests'}, inplace=True)\n",
    "df_cdn.head(2)"
   ]
  },
  {
   "cell_type": "code",
   "execution_count": 15,
   "id": "ae8d8407",
   "metadata": {},
   "outputs": [
    {
     "data": {
      "text/html": [
       "<div>\n",
       "<style scoped>\n",
       "    .dataframe tbody tr th:only-of-type {\n",
       "        vertical-align: middle;\n",
       "    }\n",
       "\n",
       "    .dataframe tbody tr th {\n",
       "        vertical-align: top;\n",
       "    }\n",
       "\n",
       "    .dataframe thead th {\n",
       "        text-align: right;\n",
       "    }\n",
       "</style>\n",
       "<table border=\"1\" class=\"dataframe\">\n",
       "  <thead>\n",
       "    <tr style=\"text-align: right;\">\n",
       "      <th></th>\n",
       "      <th>uid</th>\n",
       "      <th>livechannel</th>\n",
       "      <th>requests</th>\n",
       "      <th>log_requests</th>\n",
       "    </tr>\n",
       "  </thead>\n",
       "  <tbody>\n",
       "    <tr>\n",
       "      <th>0</th>\n",
       "      <td>0</td>\n",
       "      <td>0</td>\n",
       "      <td>16634</td>\n",
       "      <td>10</td>\n",
       "    </tr>\n",
       "    <tr>\n",
       "      <th>1</th>\n",
       "      <td>1</td>\n",
       "      <td>1</td>\n",
       "      <td>18038</td>\n",
       "      <td>10</td>\n",
       "    </tr>\n",
       "    <tr>\n",
       "      <th>2</th>\n",
       "      <td>2</td>\n",
       "      <td>2</td>\n",
       "      <td>3019</td>\n",
       "      <td>8</td>\n",
       "    </tr>\n",
       "  </tbody>\n",
       "</table>\n",
       "</div>"
      ],
      "text/plain": [
       "   uid  livechannel  requests  log_requests\n",
       "0    0            0     16634            10\n",
       "1    1            1     18038            10\n",
       "2    2            2      3019             8"
      ]
     },
     "execution_count": 15,
     "metadata": {},
     "output_type": "execute_result"
    }
   ],
   "source": [
    "df_cdn['log_requests'] = np.rint(np.log(df_cdn['requests'])).astype(int)\n",
    "df_cdn.head(3)"
   ]
  },
  {
   "cell_type": "code",
   "execution_count": 16,
   "id": "2f4a6d0b",
   "metadata": {},
   "outputs": [],
   "source": [
    "# this will be reviewed, idea is request = 1 then log_scale = 1 as well\n",
    "df_cdn['log_requests'] = np.where(df_cdn['requests']==1, 1, df_cdn['log_requests'])"
   ]
  },
  {
   "cell_type": "code",
   "execution_count": 17,
   "id": "eb23b320",
   "metadata": {},
   "outputs": [
    {
     "data": {
      "text/html": [
       "<div>\n",
       "<style scoped>\n",
       "    .dataframe tbody tr th:only-of-type {\n",
       "        vertical-align: middle;\n",
       "    }\n",
       "\n",
       "    .dataframe tbody tr th {\n",
       "        vertical-align: top;\n",
       "    }\n",
       "\n",
       "    .dataframe thead th {\n",
       "        text-align: right;\n",
       "    }\n",
       "</style>\n",
       "<table border=\"1\" class=\"dataframe\">\n",
       "  <thead>\n",
       "    <tr style=\"text-align: right;\">\n",
       "      <th></th>\n",
       "      <th>uid</th>\n",
       "      <th>livechannel</th>\n",
       "      <th>requests</th>\n",
       "      <th>log_requests</th>\n",
       "    </tr>\n",
       "  </thead>\n",
       "  <tbody>\n",
       "    <tr>\n",
       "      <th>0</th>\n",
       "      <td>0</td>\n",
       "      <td>0</td>\n",
       "      <td>16634</td>\n",
       "      <td>10</td>\n",
       "    </tr>\n",
       "    <tr>\n",
       "      <th>1</th>\n",
       "      <td>1</td>\n",
       "      <td>1</td>\n",
       "      <td>18038</td>\n",
       "      <td>10</td>\n",
       "    </tr>\n",
       "    <tr>\n",
       "      <th>2</th>\n",
       "      <td>2</td>\n",
       "      <td>2</td>\n",
       "      <td>3019</td>\n",
       "      <td>8</td>\n",
       "    </tr>\n",
       "    <tr>\n",
       "      <th>3</th>\n",
       "      <td>3</td>\n",
       "      <td>3</td>\n",
       "      <td>18034</td>\n",
       "      <td>10</td>\n",
       "    </tr>\n",
       "    <tr>\n",
       "      <th>4</th>\n",
       "      <td>4</td>\n",
       "      <td>3</td>\n",
       "      <td>406</td>\n",
       "      <td>6</td>\n",
       "    </tr>\n",
       "    <tr>\n",
       "      <th>...</th>\n",
       "      <td>...</td>\n",
       "      <td>...</td>\n",
       "      <td>...</td>\n",
       "      <td>...</td>\n",
       "    </tr>\n",
       "    <tr>\n",
       "      <th>1975</th>\n",
       "      <td>1064</td>\n",
       "      <td>8</td>\n",
       "      <td>5</td>\n",
       "      <td>2</td>\n",
       "    </tr>\n",
       "    <tr>\n",
       "      <th>1976</th>\n",
       "      <td>1065</td>\n",
       "      <td>79</td>\n",
       "      <td>100</td>\n",
       "      <td>5</td>\n",
       "    </tr>\n",
       "    <tr>\n",
       "      <th>1977</th>\n",
       "      <td>1067</td>\n",
       "      <td>116</td>\n",
       "      <td>29</td>\n",
       "      <td>3</td>\n",
       "    </tr>\n",
       "    <tr>\n",
       "      <th>1978</th>\n",
       "      <td>1068</td>\n",
       "      <td>2</td>\n",
       "      <td>8</td>\n",
       "      <td>2</td>\n",
       "    </tr>\n",
       "    <tr>\n",
       "      <th>1979</th>\n",
       "      <td>1069</td>\n",
       "      <td>13</td>\n",
       "      <td>7</td>\n",
       "      <td>2</td>\n",
       "    </tr>\n",
       "  </tbody>\n",
       "</table>\n",
       "<p>1980 rows × 4 columns</p>\n",
       "</div>"
      ],
      "text/plain": [
       "       uid  livechannel  requests  log_requests\n",
       "0        0            0     16634            10\n",
       "1        1            1     18038            10\n",
       "2        2            2      3019             8\n",
       "3        3            3     18034            10\n",
       "4        4            3       406             6\n",
       "...    ...          ...       ...           ...\n",
       "1975  1064            8         5             2\n",
       "1976  1065           79       100             5\n",
       "1977  1067          116        29             3\n",
       "1978  1068            2         8             2\n",
       "1979  1069           13         7             2\n",
       "\n",
       "[1980 rows x 4 columns]"
      ]
     },
     "execution_count": 17,
     "metadata": {},
     "output_type": "execute_result"
    }
   ],
   "source": [
    "df_cdn['log_requests'] = df_cdn['log_requests'].astype(int)\n",
    "df_cdn"
   ]
  },
  {
   "cell_type": "code",
   "execution_count": 18,
   "id": "4f2e17ff",
   "metadata": {},
   "outputs": [],
   "source": [
    "df_matrix = df_cdn[['uid','livechannel','log_requests']]"
   ]
  },
  {
   "cell_type": "code",
   "execution_count": 19,
   "id": "78a6b388",
   "metadata": {},
   "outputs": [
    {
     "data": {
      "text/html": [
       "<div>\n",
       "<style scoped>\n",
       "    .dataframe tbody tr th:only-of-type {\n",
       "        vertical-align: middle;\n",
       "    }\n",
       "\n",
       "    .dataframe tbody tr th {\n",
       "        vertical-align: top;\n",
       "    }\n",
       "\n",
       "    .dataframe thead th {\n",
       "        text-align: right;\n",
       "    }\n",
       "</style>\n",
       "<table border=\"1\" class=\"dataframe\">\n",
       "  <thead>\n",
       "    <tr style=\"text-align: right;\">\n",
       "      <th></th>\n",
       "      <th>uid</th>\n",
       "      <th>livechannel</th>\n",
       "      <th>log_requests</th>\n",
       "    </tr>\n",
       "  </thead>\n",
       "  <tbody>\n",
       "    <tr>\n",
       "      <th>0</th>\n",
       "      <td>0</td>\n",
       "      <td>0</td>\n",
       "      <td>10</td>\n",
       "    </tr>\n",
       "    <tr>\n",
       "      <th>1</th>\n",
       "      <td>1</td>\n",
       "      <td>1</td>\n",
       "      <td>10</td>\n",
       "    </tr>\n",
       "    <tr>\n",
       "      <th>2</th>\n",
       "      <td>2</td>\n",
       "      <td>2</td>\n",
       "      <td>8</td>\n",
       "    </tr>\n",
       "    <tr>\n",
       "      <th>3</th>\n",
       "      <td>3</td>\n",
       "      <td>3</td>\n",
       "      <td>10</td>\n",
       "    </tr>\n",
       "    <tr>\n",
       "      <th>4</th>\n",
       "      <td>4</td>\n",
       "      <td>3</td>\n",
       "      <td>6</td>\n",
       "    </tr>\n",
       "    <tr>\n",
       "      <th>...</th>\n",
       "      <td>...</td>\n",
       "      <td>...</td>\n",
       "      <td>...</td>\n",
       "    </tr>\n",
       "    <tr>\n",
       "      <th>1975</th>\n",
       "      <td>1064</td>\n",
       "      <td>8</td>\n",
       "      <td>2</td>\n",
       "    </tr>\n",
       "    <tr>\n",
       "      <th>1976</th>\n",
       "      <td>1065</td>\n",
       "      <td>79</td>\n",
       "      <td>5</td>\n",
       "    </tr>\n",
       "    <tr>\n",
       "      <th>1977</th>\n",
       "      <td>1067</td>\n",
       "      <td>116</td>\n",
       "      <td>3</td>\n",
       "    </tr>\n",
       "    <tr>\n",
       "      <th>1978</th>\n",
       "      <td>1068</td>\n",
       "      <td>2</td>\n",
       "      <td>2</td>\n",
       "    </tr>\n",
       "    <tr>\n",
       "      <th>1979</th>\n",
       "      <td>1069</td>\n",
       "      <td>13</td>\n",
       "      <td>2</td>\n",
       "    </tr>\n",
       "  </tbody>\n",
       "</table>\n",
       "<p>1980 rows × 3 columns</p>\n",
       "</div>"
      ],
      "text/plain": [
       "       uid  livechannel  log_requests\n",
       "0        0            0            10\n",
       "1        1            1            10\n",
       "2        2            2             8\n",
       "3        3            3            10\n",
       "4        4            3             6\n",
       "...    ...          ...           ...\n",
       "1975  1064            8             2\n",
       "1976  1065           79             5\n",
       "1977  1067          116             3\n",
       "1978  1068            2             2\n",
       "1979  1069           13             2\n",
       "\n",
       "[1980 rows x 3 columns]"
      ]
     },
     "execution_count": 19,
     "metadata": {},
     "output_type": "execute_result"
    }
   ],
   "source": [
    "df_matrix"
   ]
  },
  {
   "cell_type": "code",
   "execution_count": 22,
   "id": "751166d1",
   "metadata": {},
   "outputs": [
    {
     "name": "stdout",
     "output_type": "stream",
     "text": [
      "unique uid:  1038\n",
      "unique livetv:  149\n"
     ]
    }
   ],
   "source": [
    "print('unique uid: ',len(df_matrix.uid.unique()))\n",
    "print('unique livetv: ',len(df_matrix.livechannel.unique()))"
   ]
  },
  {
   "cell_type": "code",
   "execution_count": 23,
   "id": "7cd5b7bf",
   "metadata": {},
   "outputs": [
    {
     "name": "stdout",
     "output_type": "stream",
     "text": [
      "(1386, 3)\n",
      "(594, 3)\n"
     ]
    }
   ],
   "source": [
    "# splitting the datasets into train and test sets\n",
    "X_train, X_test = train_test_split(df_matrix, test_size=0.3, random_state=42)\n",
    "print(X_train.shape)\n",
    "print(X_test.shape)"
   ]
  },
  {
   "cell_type": "code",
   "execution_count": 24,
   "id": "266faff4",
   "metadata": {},
   "outputs": [
    {
     "name": "stdout",
     "output_type": "stream",
     "text": [
      "total records 1980\n",
      "1980\n"
     ]
    }
   ],
   "source": [
    "print('total records',len(X_train)+len(X_test))\n",
    "print(len(df_matrix))"
   ]
  },
  {
   "cell_type": "code",
   "execution_count": 25,
   "id": "41be966f",
   "metadata": {},
   "outputs": [],
   "source": [
    "X_train.to_csv('../CSV/LTV_train.csv', index = False, header = False)\n",
    "X_test.to_csv('../CSV/LTV_test.csv', index = False, header = False)"
   ]
  },
  {
   "cell_type": "code",
   "execution_count": 73,
   "id": "24b57dcf",
   "metadata": {},
   "outputs": [
    {
     "name": "stdout",
     "output_type": "stream",
     "text": [
      "evaluation on test data: RMSE 0.9997743 MAE 0.6346317 CBD 0.1202117\n",
      "evaluation on train data: RMSE 0.1628978 MAE 0.1394366 CBD 0.07370228\n",
      "1.673049\n"
     ]
    }
   ],
   "source": [
    "# import sys\n",
    "# sys.path.append(\"/home/jovyan/work/MyMediaLite-3.11/lib/mymedialite\")\n",
    "\n",
    "import clr\n",
    "clr.AddReference('/home/jovyan/work/MyMediaLite-3.11/lib/mymedialite/MyMediaLite.dll')\n",
    "# from MyMediaLite import *\n",
    "from MyMediaLite import IO\n",
    "from MyMediaLite import RatingPrediction\n",
    "from MyMediaLite import Eval\n",
    "\n",
    "\n",
    "# load the data\n",
    "train_data = IO.RatingData.Read('../CSV/VoD_train.csv')\n",
    "test_data  = IO.RatingData.Read('../CSV/VoD_test.csv')\n",
    "\n",
    "# set up the recommender\n",
    "# recommender = RatingPrediction.UserItemBaseline() # don't forget ()\n",
    "recommender = RatingPrediction.BiasedMatrixFactorization()\n",
    "\n",
    "# recommender.RegU = 0.05\n",
    "# recommender.RegI = 0.05\n",
    "recommender.Regularization = 0.05\n",
    "recommender.LearnRate = 0.07\n",
    "recommender.NumFactors = 52\n",
    "recommender.NumIter = 100\n",
    "\n",
    "recommender.Ratings = train_data\n",
    "recommender.Train()\n",
    "# num_factors=60 bias_reg=0.001 regularization=0.060 learn_rate=0.07 num_iter=100 bold_driver=true\n",
    "# measure the accuracy on the test data set\n",
    "evaluations1 = Eval.Ratings.Evaluate(recommender, test_data)\n",
    "print('evaluation on test data:',evaluations1)\n",
    "\n",
    "# measure the accuracy on the train data set\n",
    "evaluations2 = Eval.Ratings.Evaluate(recommender, train_data)\n",
    "print('evaluation on train data:',evaluations2)\n",
    "\n",
    "# make a prediction for a certain user and item\n",
    "print(recommender.Predict(2, 2))"
   ]
  },
  {
   "cell_type": "code",
   "execution_count": 71,
   "id": "61cb0e76",
   "metadata": {},
   "outputs": [
    {
     "name": "stdout",
     "output_type": "stream",
     "text": [
      "latent factors: 52 learn rate: 0.07 regi: 0.05 regu: 0.05 iterations: 100\n"
     ]
    }
   ],
   "source": [
    "print('latent factors:',recommender.NumFactors,'learn rate:',recommender.LearnRate,\n",
    "      'regi:',recommender.RegI,'regu:',recommender.RegU,'iterations:',recommender.NumIter)\n",
    "#       'regularization',recommender.Regularization)"
   ]
  },
  {
   "cell_type": "code",
   "execution_count": null,
   "id": "819aaadb",
   "metadata": {},
   "outputs": [],
   "source": []
  }
 ],
 "metadata": {
  "kernelspec": {
   "display_name": "Python 3 (ipykernel)",
   "language": "python",
   "name": "python3"
  },
  "language_info": {
   "codemirror_mode": {
    "name": "ipython",
    "version": 3
   },
   "file_extension": ".py",
   "mimetype": "text/x-python",
   "name": "python",
   "nbconvert_exporter": "python",
   "pygments_lexer": "ipython3",
   "version": "3.9.10"
  }
 },
 "nbformat": 4,
 "nbformat_minor": 5
}
