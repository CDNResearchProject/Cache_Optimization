{
 "cells": [
  {
   "cell_type": "code",
   "execution_count": 1,
   "id": "7d6b4c1e",
   "metadata": {},
   "outputs": [],
   "source": [
    "# importing necessary packages\n",
    "import numpy as np\n",
    "import pandas as pd\n",
    "from pandas import Series, DataFrame\n",
    "\n",
    "import json\n",
    "import gc\n",
    "\n",
    "from elasticsearch import Elasticsearch\n"
   ]
  },
  {
   "cell_type": "code",
   "execution_count": 2,
   "id": "69e14718",
   "metadata": {},
   "outputs": [],
   "source": [
    "# creating elasticsearch client\n",
    "elastic_client = Elasticsearch('http://192.168.100.147:9200', request_timeout = 30, max_retries = 10, retry_on_timeout = True)\n"
   ]
  },
  {
   "cell_type": "code",
   "execution_count": 3,
   "id": "4f9e7409",
   "metadata": {},
   "outputs": [],
   "source": [
    "# constructing DSL query\n",
    "\n",
    "min_timestamp = '2088-05-13T00:00:00' # '2088-05-13T00:00:00'\n",
    "max_timestamp = '2088-05-13T10:00:00' # '2088-05-20T00:00:00'\n",
    "\n",
    "json_body = {\n",
    "              'query': {\n",
    "                'bool': {\n",
    "                  'must': [\n",
    "                    {\n",
    "                      'query_string': {\n",
    "                        'query':'(host:4) and (host:12) and (host:15) and (host:19)'\n",
    "                      }\n",
    "                    },\n",
    "                    {\n",
    "                      'range': {\n",
    "                            '@timestamp': {\n",
    "                             'gte': min_timestamp, \n",
    "                             'lte': max_timestamp, \n",
    "                             'boost': 2.0\n",
    "                         }\n",
    "                      }\n",
    "                    }\n",
    "                  ]\n",
    "                }\n",
    "              }\n",
    "            }\n",
    "\n",
    "# json_body = {\n",
    "#              'query': {\n",
    "#                  'range': {\n",
    "#                      '@timestamp': {\n",
    "#                          'gte': min_timestamp, \n",
    "#                          'lte': max_timestamp, \n",
    "#                          'boost': 2.0\n",
    "#                      }\n",
    "#                  }\n",
    "#              }\n",
    "#          }\n",
    "\n",
    "# Lucene type query\n",
    "# lucene_q='(host:4) and (host:12) and (host:15) and (host:19)'\n",
    "# choose live-TV host 2, 7; VoD host 12, 4"
   ]
  },
  {
   "cell_type": "code",
   "execution_count": 4,
   "id": "780e572b",
   "metadata": {},
   "outputs": [
    {
     "name": "stderr",
     "output_type": "stream",
     "text": [
      "/tmp/ipykernel_4014/4106050485.py:2: DeprecationWarning: The 'body' parameter is deprecated and will be removed in a future version. Instead use individual parameters.\n",
      "  rec_count2 = elastic_client.count(body=json_body, index='batch3-*') # q=lucene_q\n",
      "/tmp/ipykernel_4014/4106050485.py:2: ElasticsearchWarning: Elasticsearch built-in security features are not enabled. Without authentication, your cluster could be accessible to anyone. See https://www.elastic.co/guide/en/elasticsearch/reference/7.17/security-minimal-setup.html to enable security.\n",
      "  rec_count2 = elastic_client.count(body=json_body, index='batch3-*') # q=lucene_q\n"
     ]
    },
    {
     "data": {
      "text/plain": [
       "ObjectApiResponse({'count': 23315, '_shards': {'total': 640, 'successful': 640, 'skipped': 0, 'failed': 0}})"
      ]
     },
     "execution_count": 4,
     "metadata": {},
     "output_type": "execute_result"
    }
   ],
   "source": [
    "# trying to get count of records returned from Lucene query format\n",
    "rec_count2 = elastic_client.count(body=json_body, index='batch3-*') # q=lucene_q\n",
    "\n",
    "# observing the actual output from client.count\n",
    "rec_count2\n"
   ]
  },
  {
   "cell_type": "code",
   "execution_count": 5,
   "id": "d9d82131",
   "metadata": {},
   "outputs": [
    {
     "name": "stderr",
     "output_type": "stream",
     "text": [
      "/tmp/ipykernel_4014/77014873.py:2: DeprecationWarning: The 'body' parameter is deprecated and will be removed in a future version. Instead use individual parameters.\n",
      "  rec_count = elastic_client.count(body=json_body, index='batch3-*')\n",
      "/tmp/ipykernel_4014/77014873.py:2: ElasticsearchWarning: Elasticsearch built-in security features are not enabled. Without authentication, your cluster could be accessible to anyone. See https://www.elastic.co/guide/en/elasticsearch/reference/7.17/security-minimal-setup.html to enable security.\n",
      "  rec_count = elastic_client.count(body=json_body, index='batch3-*')\n"
     ]
    },
    {
     "data": {
      "text/plain": [
       "23315"
      ]
     },
     "execution_count": 5,
     "metadata": {},
     "output_type": "execute_result"
    }
   ],
   "source": [
    "# trying to get count of records returned from DSL query format\n",
    "rec_count = elastic_client.count(body=json_body, index='batch3-*')\n",
    "\n",
    "# extracting only the 'count' attribute from the output\n",
    "rec_count['count']\n"
   ]
  },
  {
   "cell_type": "markdown",
   "id": "89494da9-1056-461b-bbae-acd0be2f02c7",
   "metadata": {},
   "source": [
    "### parallel processing to get the dataset"
   ]
  },
  {
   "cell_type": "code",
   "execution_count": 11,
   "id": "81bf6460-20a6-4505-96f9-91426dc6a322",
   "metadata": {},
   "outputs": [],
   "source": [
    "# function for multiprocessing scrolling API to get dataset from elasticsearch {modified piece}\n",
    "'''\n",
    "this code works wonderfully!\n",
    "'''\n",
    "\n",
    "# all_cols = ['devicefamily','livechannel','fragment','path','popname','protocol','timefirstbyte','@timestamp','coordinates',\n",
    "#             'contentlength','assetnumber','timetoserv','contenttype','maxage','@version','sid','cachecontrol','method',\n",
    "#             'hit','devicemodel','cachename','uid','host','contentpackage','devicebrand','osfamily','statuscode','uafamily',\n",
    "#             'uamajor','manifest']\n",
    "\n",
    "# attributes = ['@timestamp','statuscode','contentlength','host','timetoserv','hit','contenttype',\n",
    "#               'uid','sid','livechannel','contentpackage','assetnumber','coordinates',\n",
    "#               'uafamily']\n",
    "\n",
    "def es_scroll(index):\n",
    "    es = Elasticsearch('http://192.168.100.147:9200', request_timeout = 30, max_retries = 10, retry_on_timeout = True)\n",
    "    page = es.search(index = index,\n",
    "                     # doc_type = 'tls_book',\n",
    "                     scroll = '2m',\n",
    "                     _source=attributes,\n",
    "                     body = json_body,\n",
    "                     # q = lucene_q,\n",
    "                     #version = False,\n",
    "                     size = 10000\n",
    "                    )\n",
    "    sid = page['_scroll_id']\n",
    "    # print('sid:', sid)\n",
    "    scroll_size = len(page['hits']['hits'])\n",
    "    \n",
    "    print('records:', page['hits']['hits'])\n",
    "    \n",
    "    # Start scrolling\n",
    "    df = pd.DataFrame()\n",
    "    appended_data = []\n",
    "    \n",
    "    print('records returned from client.search:', scroll_size)\n",
    "    \n",
    "    while (scroll_size > 0):\n",
    "        frame = pd.DataFrame.from_dict([document['_source'] for document in page['hits']['hits']])\n",
    "        appended_data.append(frame)\n",
    "        page = es.scroll(scroll_id = sid, scroll = '2m', request_timeout = 30)\n",
    "        # Update the scroll ID\n",
    "        sid = page['_scroll_id']\n",
    "        # Get the number of results that we returned in the last scroll\n",
    "        scroll_size = len(page['hits']['hits'])\n",
    "        \n",
    "    print('size of appended data:', len(appended_data))\n",
    "    if len(appended_data) > 0:\n",
    "        df = pd.concat(appended_data, ignore_index = True, sort = False)\n",
    "    del appended_data\n",
    "    gc.collect()\n",
    "    es.clear_scroll(body = {'scroll_id': sid})\n",
    "    return df"
   ]
  },
  {
   "cell_type": "code",
   "execution_count": null,
   "id": "f2bf76d5-4137-4166-b37b-3462ad941167",
   "metadata": {},
   "outputs": [],
   "source": []
  },
  {
   "cell_type": "code",
   "execution_count": 12,
   "id": "8c7aa73d-1bb3-4a68-afe9-172ef3c8697c",
   "metadata": {},
   "outputs": [
    {
     "name": "stderr",
     "output_type": "stream",
     "text": [
      "/tmp/ipykernel_4014/1852347243.py:17: DeprecationWarning: The 'body' parameter is deprecated and will be removed in a future version. Instead use individual parameters.\n",
      "  page = es.search(index = index,\n",
      "/tmp/ipykernel_4014/1852347243.py:17: ElasticsearchWarning: Elasticsearch built-in security features are not enabled. Without authentication, your cluster could be accessible to anyone. See https://www.elastic.co/guide/en/elasticsearch/reference/7.17/security-minimal-setup.html to enable security.\n",
      "  page = es.search(index = index,\n",
      "/tmp/ipykernel_4014/1852347243.py:41: DeprecationWarning: Passing transport options in the API method is deprecated. Use 'Elasticsearch.options()' instead.\n",
      "  page = es.scroll(scroll_id = sid, scroll = '2m', request_timeout = 30)\n",
      "IOPub data rate exceeded.\n",
      "The Jupyter server will temporarily stop sending output\n",
      "to the client in order to avoid crashing it.\n",
      "To change this limit, set the config variable\n",
      "`--ServerApp.iopub_data_rate_limit`.\n",
      "\n",
      "Current values:\n",
      "ServerApp.iopub_data_rate_limit=1000000.0 (bytes/sec)\n",
      "ServerApp.rate_limit_window=3.0 (secs)\n",
      "\n",
      "/tmp/ipykernel_4014/1852347243.py:41: ElasticsearchWarning: Elasticsearch built-in security features are not enabled. Without authentication, your cluster could be accessible to anyone. See https://www.elastic.co/guide/en/elasticsearch/reference/7.17/security-minimal-setup.html to enable security.\n",
      "  page = es.scroll(scroll_id = sid, scroll = '2m', request_timeout = 30)\n",
      "/tmp/ipykernel_4014/1852347243.py:41: DeprecationWarning: Passing transport options in the API method is deprecated. Use 'Elasticsearch.options()' instead.\n",
      "  page = es.scroll(scroll_id = sid, scroll = '2m', request_timeout = 30)\n",
      "/tmp/ipykernel_4014/1852347243.py:41: ElasticsearchWarning: Elasticsearch built-in security features are not enabled. Without authentication, your cluster could be accessible to anyone. See https://www.elastic.co/guide/en/elasticsearch/reference/7.17/security-minimal-setup.html to enable security.\n",
      "  page = es.scroll(scroll_id = sid, scroll = '2m', request_timeout = 30)\n",
      "/tmp/ipykernel_4014/1852347243.py:41: DeprecationWarning: Passing transport options in the API method is deprecated. Use 'Elasticsearch.options()' instead.\n",
      "  page = es.scroll(scroll_id = sid, scroll = '2m', request_timeout = 30)\n",
      "/tmp/ipykernel_4014/1852347243.py:41: ElasticsearchWarning: Elasticsearch built-in security features are not enabled. Without authentication, your cluster could be accessible to anyone. See https://www.elastic.co/guide/en/elasticsearch/reference/7.17/security-minimal-setup.html to enable security.\n",
      "  page = es.scroll(scroll_id = sid, scroll = '2m', request_timeout = 30)\n"
     ]
    },
    {
     "name": "stdout",
     "output_type": "stream",
     "text": [
      "size of appended data: 3\n"
     ]
    },
    {
     "name": "stderr",
     "output_type": "stream",
     "text": [
      "/tmp/ipykernel_4014/1852347243.py:52: DeprecationWarning: The 'body' parameter is deprecated and will be removed in a future version. Instead use individual parameters.\n",
      "  es.clear_scroll(body = {'scroll_id': sid})\n",
      "/tmp/ipykernel_4014/1852347243.py:52: ElasticsearchWarning: Elasticsearch built-in security features are not enabled. Without authentication, your cluster could be accessible to anyone. See https://www.elastic.co/guide/en/elasticsearch/reference/7.17/security-minimal-setup.html to enable security.\n",
      "  es.clear_scroll(body = {'scroll_id': sid})\n"
     ]
    }
   ],
   "source": [
    "vod_df = es_scroll(index='batch3-*')"
   ]
  },
  {
   "cell_type": "code",
   "execution_count": null,
   "id": "da91b294-e998-4631-9557-f66a0dcde0d2",
   "metadata": {},
   "outputs": [],
   "source": [
    "print(vod_df.shape)\n",
    "vod_df"
   ]
  },
  {
   "cell_type": "code",
   "execution_count": null,
   "id": "a7c4827e",
   "metadata": {},
   "outputs": [],
   "source": [
    "vod_df.info()"
   ]
  },
  {
   "cell_type": "code",
   "execution_count": null,
   "id": "99816dfa",
   "metadata": {},
   "outputs": [],
   "source": [
    "vod_df.to_csv('CSV/VoD_ELK_24_3.csv', index = False)"
   ]
  },
  {
   "cell_type": "code",
   "execution_count": null,
   "id": "d856bf8f-6d3f-4b86-9f78-f309476bbd7f",
   "metadata": {},
   "outputs": [],
   "source": [
    "# function for multiprocessing scrolling API to get dataset from elasticsearch {original piece}\n",
    "# \n",
    "# def es_scroll(index, min_timestamp, max_timestamp, slice_no):\n",
    "#     es = Elasticsearch('http://192.168.100.146:9200', timeout = 30, max_retries = 10, retry_on_timeout = True)\n",
    "#     page = es.search(index = index,\n",
    "#                      doc_type = 'tls_book',\n",
    "#                      scroll = '1m',\n",
    "#                      body = {\n",
    "#                          'slice': {\n",
    "#                              'id': slice_no,\n",
    "#                              'max': SLICES\n",
    "#                          },\n",
    "#                          '_source': [\n",
    "#                              'host', 'contentpackage'\n",
    "#                          ],\n",
    "#                          'sort': [\n",
    "#                              '_doc'\n",
    "#                          ],\n",
    "#                          'query': {\n",
    "#                              'range': {\n",
    "#                                  '@timestamp': {\n",
    "#                                      'gte': min_timestamp, or 'gt': '2088-05-13T00:00:00'\n",
    "#                                      'lte': max_timestamp, or 'lt': '2088-05-20T00:00:00'\n",
    "#                                      'boost': 2.0\n",
    "#                                  }\n",
    "#                              }\n",
    "#                          }\n",
    "#                      },\n",
    "#                      version = False,\n",
    "#                      size = 10000\n",
    "#                     )\n",
    "#     sid = page['_scroll_id']\n",
    "#     scroll_size = page['hits']['hits']\n",
    "    \n",
    "#     # Start scrolling\n",
    "#     df = pd.DataFrame()\n",
    "#     appended_data = []\n",
    "    \n",
    "#     while (scroll_size > 0):\n",
    "#         frame = pd.DataFrame.from_dict([document['_source'] for document in page ['hits']['hits']])\n",
    "#         appended_data.append(frame)\n",
    "#         page = es.scroll(scroll_id = sid, scroll = '1m', request_timeout = 30)\n",
    "#         # Update the scroll ID\n",
    "#         sid = page['_scroll_id']\n",
    "#         # Get the number of results that we returned in the last scroll\n",
    "#         scroll_size = len(page['hits']['hits'])\n",
    "#     if len(append_data) > 0:\n",
    "#         df = pd.concat(appended_data, ignore_index = True, sort = False)\n",
    "#     del appended_data\n",
    "#     gc.collect()\n",
    "#     es.clear_scroll(body = {'scroll_id': sid})\n",
    "#     return df\n",
    "    \n",
    "    \n",
    "    "
   ]
  },
  {
   "cell_type": "code",
   "execution_count": null,
   "id": "99b061f9",
   "metadata": {},
   "outputs": [],
   "source": [
    "# create a JSON string from Pandas object\n",
    "# json_data = elastic_df.to_json()\n",
    "# print('\\nto_json() method:', json_data)"
   ]
  },
  {
   "cell_type": "code",
   "execution_count": null,
   "id": "22d830df",
   "metadata": {},
   "outputs": [],
   "source": [
    "# verify that the to_jason() method made a JSON string\n",
    "# try:\n",
    "#     json.loads(json_data)\n",
    "#     print('\\njson_data is a valid JSON string')\n",
    "# except json.decoder.JSONDecodeError as err:\n",
    "#     print('\\njson.decoder.JSONDecodeError:', err)\n",
    "#     print('json_data is NOT a valid JSON string')\n",
    "\n"
   ]
  },
  {
   "cell_type": "code",
   "execution_count": null,
   "id": "51e0999d",
   "metadata": {},
   "outputs": [],
   "source": [
    "'''\n",
    "Creating Series object from Elasticsearch documents\n",
    "'''\n",
    "\n",
    "# # an empty dictionary for series arrays\n",
    "# elastic_series = {}\n",
    "# #initializing new indexer for the list of elastic_docs\n",
    "# j = 0\n",
    "\n",
    "# # iterate the docs returned from API call\n",
    "# while(j < len(elastic_docs)):\n",
    "#     for num, doc in enumerate(elastic_docs[j]):\n",
    "\n",
    "#         # get the _id for the doc\n",
    "#         _id = doc['_id']\n",
    "\n",
    "#         # get the source data from document\n",
    "#         source_data = doc['_source']\n",
    "\n",
    "#         # make a Series object for the doc using _id as key\n",
    "#         elastic_series[_id] = Series()\n",
    "\n",
    "#         # iterate source_data\n",
    "#         for field, value in source_data.items():\n",
    "\n",
    "#             # set the field type as Series index and value as Series value\n",
    "#             elastic_series[_id].at[field] = value\n",
    "#     j += 1\n",
    "        \n",
    "# for key, doc in elastic_series.items():\n",
    "#     print('\\nID:', key, '\\n', doc)"
   ]
  },
  {
   "cell_type": "code",
   "execution_count": null,
   "id": "3bcc3b02",
   "metadata": {},
   "outputs": [],
   "source": []
  }
 ],
 "metadata": {
  "kernelspec": {
   "display_name": "Python 3 (ipykernel)",
   "language": "python",
   "name": "python3"
  },
  "language_info": {
   "codemirror_mode": {
    "name": "ipython",
    "version": 3
   },
   "file_extension": ".py",
   "mimetype": "text/x-python",
   "name": "python",
   "nbconvert_exporter": "python",
   "pygments_lexer": "ipython3",
   "version": "3.9.10"
  }
 },
 "nbformat": 4,
 "nbformat_minor": 5
}
