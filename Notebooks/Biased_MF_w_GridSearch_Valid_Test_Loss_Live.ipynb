{
 "cells": [
  {
   "cell_type": "code",
   "execution_count": 25,
   "id": "60aa47ee",
   "metadata": {},
   "outputs": [],
   "source": [
    "# loading packages\n",
    "\n",
    "import numpy as np\n",
    "import pandas as pd\n",
    "import matplotlib.pyplot as plt\n",
    "from matplotlib import rcParams\n",
    "from itertools import product\n",
    "from collections import namedtuple\n",
    "from sklearn.model_selection import train_test_split\n",
    "from typing import Iterable, Any, Dict\n",
    "\n",
    "import seaborn as sb"
   ]
  },
  {
   "cell_type": "code",
   "execution_count": 2,
   "id": "1d5067cf",
   "metadata": {},
   "outputs": [],
   "source": [
    "%matplotlib inline\n",
    "rcParams['figure.figsize'] = 8, 6\n",
    "sb.set_style('whitegrid')"
   ]
  },
  {
   "cell_type": "markdown",
   "id": "c0db4a41",
   "metadata": {},
   "source": [
    "# Data Preparation"
   ]
  },
  {
   "cell_type": "code",
   "execution_count": 3,
   "id": "91a66798",
   "metadata": {},
   "outputs": [],
   "source": [
    "# location for the datasets\n",
    "\n",
    "address2 = '/cdnlogs/batch3/1-1.bz2.ano.bz2'\n",
    "address = 'CSV/videos.csv'"
   ]
  },
  {
   "cell_type": "code",
   "execution_count": 4,
   "id": "d1fc0325",
   "metadata": {},
   "outputs": [
    {
     "name": "stdout",
     "output_type": "stream",
     "text": [
      "<class 'pandas.core.frame.DataFrame'>\n",
      "RangeIndex: 10000000 entries, 0 to 9999999\n",
      "Data columns (total 3 columns):\n",
      " #   Column       Dtype         \n",
      "---  ------       -----         \n",
      " 0   timestamp    datetime64[ns]\n",
      " 1   uid          float64       \n",
      " 2   livechannel  float64       \n",
      "dtypes: datetime64[ns](1), float64(2)\n",
      "memory usage: 228.9 MB\n",
      "None\n"
     ]
    }
   ],
   "source": [
    "allcols = ['timestamp','statuscode','contentlength','host','timefirstbyte','timetoserv','hit','contenttype',\n",
    "           'cachecontrol','cachename','popname','method','protocol','path','uid','sid','livechannel',\n",
    "           'contentpackage','assetnumber','maxage','coordinates','devicebrand','devicefamily','devicemodel',\n",
    "           'osfamily','uafamily','uamajor','manifest','fragment']\n",
    "somecols = ['timestamp','hit','contenttype','uid','livechannel',\n",
    "            'contentpackage']\n",
    "\n",
    "missing_values = ['n/a','na','--','NaN','NA','-']\n",
    "\n",
    "cdnset2 = pd.read_csv(address2,\n",
    "                     header=0,\n",
    "                     nrows=10000000,\n",
    "                     parse_dates=[0],\n",
    "                     comment='#',\n",
    "                     usecols=[0,14,16],\n",
    "                     names=['timestamp','uid','livechannel'],\n",
    "                     na_values=missing_values\n",
    "                    )\n",
    "print(cdnset2.info())"
   ]
  },
  {
   "cell_type": "code",
   "execution_count": 5,
   "id": "24358db5",
   "metadata": {},
   "outputs": [],
   "source": [
    "cdnset = cdnset2[['timestamp', 'uid', 'livechannel']]"
   ]
  },
  {
   "cell_type": "code",
   "execution_count": null,
   "id": "192b0f05",
   "metadata": {},
   "outputs": [],
   "source": [
    "# cdnset = pd.read_csv(address,  na_values=missing_values)[['timestamp', 'uid', 'livechannel']]\n",
    "# cdnset = pd.read_csv(address,  na_values=missing_values)"
   ]
  },
  {
   "cell_type": "code",
   "execution_count": 6,
   "id": "3f05610e",
   "metadata": {},
   "outputs": [
    {
     "name": "stdout",
     "output_type": "stream",
     "text": [
      "<class 'pandas.core.frame.DataFrame'>\n",
      "RangeIndex: 10000000 entries, 0 to 9999999\n",
      "Data columns (total 3 columns):\n",
      " #   Column       Dtype         \n",
      "---  ------       -----         \n",
      " 0   timestamp    datetime64[ns]\n",
      " 1   uid          float64       \n",
      " 2   livechannel  float64       \n",
      "dtypes: datetime64[ns](1), float64(2)\n",
      "memory usage: 228.9 MB\n"
     ]
    }
   ],
   "source": [
    "cdnset.info()"
   ]
  },
  {
   "cell_type": "code",
   "execution_count": 7,
   "id": "f9535ef0",
   "metadata": {},
   "outputs": [
    {
     "data": {
      "text/html": [
       "<div>\n",
       "<style scoped>\n",
       "    .dataframe tbody tr th:only-of-type {\n",
       "        vertical-align: middle;\n",
       "    }\n",
       "\n",
       "    .dataframe tbody tr th {\n",
       "        vertical-align: top;\n",
       "    }\n",
       "\n",
       "    .dataframe thead th {\n",
       "        text-align: right;\n",
       "    }\n",
       "</style>\n",
       "<table border=\"1\" class=\"dataframe\">\n",
       "  <thead>\n",
       "    <tr style=\"text-align: right;\">\n",
       "      <th></th>\n",
       "      <th>timestamp</th>\n",
       "      <th>uid</th>\n",
       "      <th>livechannel</th>\n",
       "    </tr>\n",
       "  </thead>\n",
       "  <tbody>\n",
       "    <tr>\n",
       "      <th>0</th>\n",
       "      <td>2088-05-13 06:59:46</td>\n",
       "      <td>NaN</td>\n",
       "      <td>NaN</td>\n",
       "    </tr>\n",
       "    <tr>\n",
       "      <th>1</th>\n",
       "      <td>2088-05-13 06:59:46</td>\n",
       "      <td>NaN</td>\n",
       "      <td>NaN</td>\n",
       "    </tr>\n",
       "  </tbody>\n",
       "</table>\n",
       "</div>"
      ],
      "text/plain": [
       "            timestamp  uid  livechannel\n",
       "0 2088-05-13 06:59:46  NaN          NaN\n",
       "1 2088-05-13 06:59:46  NaN          NaN"
      ]
     },
     "execution_count": 7,
     "metadata": {},
     "output_type": "execute_result"
    }
   ],
   "source": [
    "cdnset.head(2)"
   ]
  },
  {
   "cell_type": "markdown",
   "id": "1ebe6ada",
   "metadata": {},
   "source": [
    "### Removing missing values"
   ]
  },
  {
   "cell_type": "code",
   "execution_count": 8,
   "id": "16082173",
   "metadata": {},
   "outputs": [],
   "source": [
    "cdnset = cdnset.dropna(axis='index')"
   ]
  },
  {
   "cell_type": "code",
   "execution_count": 9,
   "id": "8a918812",
   "metadata": {},
   "outputs": [
    {
     "data": {
      "text/plain": [
       "(4982769, 3)"
      ]
     },
     "execution_count": 9,
     "metadata": {},
     "output_type": "execute_result"
    }
   ],
   "source": [
    "cdnset.shape"
   ]
  },
  {
   "cell_type": "code",
   "execution_count": null,
   "id": "2091b27c",
   "metadata": {},
   "outputs": [],
   "source": []
  },
  {
   "cell_type": "code",
   "execution_count": 10,
   "id": "9e15baab",
   "metadata": {},
   "outputs": [],
   "source": [
    "df_cdn_subset = cdnset[['uid', 'livechannel', 'timestamp']]"
   ]
  },
  {
   "cell_type": "code",
   "execution_count": 11,
   "id": "9efedb4d",
   "metadata": {},
   "outputs": [],
   "source": [
    "df_cdn_frequency = df_cdn_subset.groupby(['uid', 'livechannel'], as_index=False).count()"
   ]
  },
  {
   "cell_type": "code",
   "execution_count": 12,
   "id": "4755a8c0",
   "metadata": {},
   "outputs": [],
   "source": [
    "df_cdn_frequency = df_cdn_frequency.astype(int)\n",
    "df_cdn_frequency.rename(columns={'timestamp':'requests'}, inplace=True)"
   ]
  },
  {
   "cell_type": "code",
   "execution_count": 13,
   "id": "fd863c90",
   "metadata": {},
   "outputs": [
    {
     "data": {
      "text/html": [
       "<div>\n",
       "<style scoped>\n",
       "    .dataframe tbody tr th:only-of-type {\n",
       "        vertical-align: middle;\n",
       "    }\n",
       "\n",
       "    .dataframe tbody tr th {\n",
       "        vertical-align: top;\n",
       "    }\n",
       "\n",
       "    .dataframe thead th {\n",
       "        text-align: right;\n",
       "    }\n",
       "</style>\n",
       "<table border=\"1\" class=\"dataframe\">\n",
       "  <thead>\n",
       "    <tr style=\"text-align: right;\">\n",
       "      <th></th>\n",
       "      <th>uid</th>\n",
       "      <th>livechannel</th>\n",
       "      <th>requests</th>\n",
       "    </tr>\n",
       "  </thead>\n",
       "  <tbody>\n",
       "    <tr>\n",
       "      <th>0</th>\n",
       "      <td>0</td>\n",
       "      <td>0</td>\n",
       "      <td>16634</td>\n",
       "    </tr>\n",
       "    <tr>\n",
       "      <th>1</th>\n",
       "      <td>1</td>\n",
       "      <td>1</td>\n",
       "      <td>18038</td>\n",
       "    </tr>\n",
       "    <tr>\n",
       "      <th>2</th>\n",
       "      <td>2</td>\n",
       "      <td>2</td>\n",
       "      <td>3019</td>\n",
       "    </tr>\n",
       "    <tr>\n",
       "      <th>3</th>\n",
       "      <td>3</td>\n",
       "      <td>3</td>\n",
       "      <td>18034</td>\n",
       "    </tr>\n",
       "    <tr>\n",
       "      <th>4</th>\n",
       "      <td>4</td>\n",
       "      <td>3</td>\n",
       "      <td>406</td>\n",
       "    </tr>\n",
       "    <tr>\n",
       "      <th>...</th>\n",
       "      <td>...</td>\n",
       "      <td>...</td>\n",
       "      <td>...</td>\n",
       "    </tr>\n",
       "    <tr>\n",
       "      <th>1975</th>\n",
       "      <td>1064</td>\n",
       "      <td>8</td>\n",
       "      <td>5</td>\n",
       "    </tr>\n",
       "    <tr>\n",
       "      <th>1976</th>\n",
       "      <td>1065</td>\n",
       "      <td>79</td>\n",
       "      <td>100</td>\n",
       "    </tr>\n",
       "    <tr>\n",
       "      <th>1977</th>\n",
       "      <td>1067</td>\n",
       "      <td>116</td>\n",
       "      <td>29</td>\n",
       "    </tr>\n",
       "    <tr>\n",
       "      <th>1978</th>\n",
       "      <td>1068</td>\n",
       "      <td>2</td>\n",
       "      <td>8</td>\n",
       "    </tr>\n",
       "    <tr>\n",
       "      <th>1979</th>\n",
       "      <td>1069</td>\n",
       "      <td>13</td>\n",
       "      <td>7</td>\n",
       "    </tr>\n",
       "  </tbody>\n",
       "</table>\n",
       "<p>1980 rows × 3 columns</p>\n",
       "</div>"
      ],
      "text/plain": [
       "       uid  livechannel  requests\n",
       "0        0            0     16634\n",
       "1        1            1     18038\n",
       "2        2            2      3019\n",
       "3        3            3     18034\n",
       "4        4            3       406\n",
       "...    ...          ...       ...\n",
       "1975  1064            8         5\n",
       "1976  1065           79       100\n",
       "1977  1067          116        29\n",
       "1978  1068            2         8\n",
       "1979  1069           13         7\n",
       "\n",
       "[1980 rows x 3 columns]"
      ]
     },
     "execution_count": 13,
     "metadata": {},
     "output_type": "execute_result"
    }
   ],
   "source": [
    "df_cdn_frequency"
   ]
  },
  {
   "cell_type": "code",
   "execution_count": 15,
   "id": "99a2acb1",
   "metadata": {},
   "outputs": [
    {
     "name": "stdout",
     "output_type": "stream",
     "text": [
      "24531\n"
     ]
    }
   ],
   "source": [
    "kubwa = df_cdn_frequency.requests.max()\n",
    "print(kubwa)"
   ]
  },
  {
   "cell_type": "code",
   "execution_count": 17,
   "id": "7e70aabb",
   "metadata": {},
   "outputs": [],
   "source": [
    "#kubwa = df_cdn_freq.timestamp.max()\n",
    "df_cdn_frequency['rating'] = np.where(df_cdn_frequency.requests==kubwa,\n",
    "                5,\n",
    "                np.where(df_cdn_frequency.requests>=0.75*kubwa,\n",
    "                        4,\n",
    "                        np.where(df_cdn_frequency.requests>=0.5*kubwa,\n",
    "                                3,\n",
    "                                np.where(df_cdn_frequency.requests>=0.25*kubwa,\n",
    "                                        2,\n",
    "                                        np.where(df_cdn_frequency.requests>1,\n",
    "                                                1,\n",
    "                                                df_cdn_frequency.requests)))))"
   ]
  },
  {
   "cell_type": "code",
   "execution_count": 18,
   "id": "761b5a1a",
   "metadata": {
    "scrolled": false
   },
   "outputs": [
    {
     "data": {
      "text/html": [
       "<div>\n",
       "<style scoped>\n",
       "    .dataframe tbody tr th:only-of-type {\n",
       "        vertical-align: middle;\n",
       "    }\n",
       "\n",
       "    .dataframe tbody tr th {\n",
       "        vertical-align: top;\n",
       "    }\n",
       "\n",
       "    .dataframe thead th {\n",
       "        text-align: right;\n",
       "    }\n",
       "</style>\n",
       "<table border=\"1\" class=\"dataframe\">\n",
       "  <thead>\n",
       "    <tr style=\"text-align: right;\">\n",
       "      <th></th>\n",
       "      <th>uid</th>\n",
       "      <th>livechannel</th>\n",
       "      <th>requests</th>\n",
       "      <th>rating</th>\n",
       "    </tr>\n",
       "  </thead>\n",
       "  <tbody>\n",
       "    <tr>\n",
       "      <th>0</th>\n",
       "      <td>0</td>\n",
       "      <td>0</td>\n",
       "      <td>16634</td>\n",
       "      <td>3</td>\n",
       "    </tr>\n",
       "    <tr>\n",
       "      <th>1</th>\n",
       "      <td>1</td>\n",
       "      <td>1</td>\n",
       "      <td>18038</td>\n",
       "      <td>3</td>\n",
       "    </tr>\n",
       "    <tr>\n",
       "      <th>2</th>\n",
       "      <td>2</td>\n",
       "      <td>2</td>\n",
       "      <td>3019</td>\n",
       "      <td>1</td>\n",
       "    </tr>\n",
       "    <tr>\n",
       "      <th>3</th>\n",
       "      <td>3</td>\n",
       "      <td>3</td>\n",
       "      <td>18034</td>\n",
       "      <td>3</td>\n",
       "    </tr>\n",
       "    <tr>\n",
       "      <th>4</th>\n",
       "      <td>4</td>\n",
       "      <td>3</td>\n",
       "      <td>406</td>\n",
       "      <td>1</td>\n",
       "    </tr>\n",
       "    <tr>\n",
       "      <th>...</th>\n",
       "      <td>...</td>\n",
       "      <td>...</td>\n",
       "      <td>...</td>\n",
       "      <td>...</td>\n",
       "    </tr>\n",
       "    <tr>\n",
       "      <th>1975</th>\n",
       "      <td>1064</td>\n",
       "      <td>8</td>\n",
       "      <td>5</td>\n",
       "      <td>1</td>\n",
       "    </tr>\n",
       "    <tr>\n",
       "      <th>1976</th>\n",
       "      <td>1065</td>\n",
       "      <td>79</td>\n",
       "      <td>100</td>\n",
       "      <td>1</td>\n",
       "    </tr>\n",
       "    <tr>\n",
       "      <th>1977</th>\n",
       "      <td>1067</td>\n",
       "      <td>116</td>\n",
       "      <td>29</td>\n",
       "      <td>1</td>\n",
       "    </tr>\n",
       "    <tr>\n",
       "      <th>1978</th>\n",
       "      <td>1068</td>\n",
       "      <td>2</td>\n",
       "      <td>8</td>\n",
       "      <td>1</td>\n",
       "    </tr>\n",
       "    <tr>\n",
       "      <th>1979</th>\n",
       "      <td>1069</td>\n",
       "      <td>13</td>\n",
       "      <td>7</td>\n",
       "      <td>1</td>\n",
       "    </tr>\n",
       "  </tbody>\n",
       "</table>\n",
       "<p>1980 rows × 4 columns</p>\n",
       "</div>"
      ],
      "text/plain": [
       "       uid  livechannel  requests  rating\n",
       "0        0            0     16634       3\n",
       "1        1            1     18038       3\n",
       "2        2            2      3019       1\n",
       "3        3            3     18034       3\n",
       "4        4            3       406       1\n",
       "...    ...          ...       ...     ...\n",
       "1975  1064            8         5       1\n",
       "1976  1065           79       100       1\n",
       "1977  1067          116        29       1\n",
       "1978  1068            2         8       1\n",
       "1979  1069           13         7       1\n",
       "\n",
       "[1980 rows x 4 columns]"
      ]
     },
     "execution_count": 18,
     "metadata": {},
     "output_type": "execute_result"
    }
   ],
   "source": [
    "df_cdn_frequency"
   ]
  },
  {
   "cell_type": "code",
   "execution_count": 30,
   "id": "1746dc4f",
   "metadata": {},
   "outputs": [],
   "source": [
    "df = df_cdn_frequency"
   ]
  },
  {
   "cell_type": "code",
   "execution_count": null,
   "id": "09505f63",
   "metadata": {},
   "outputs": [],
   "source": []
  },
  {
   "cell_type": "markdown",
   "id": "fda726f9",
   "metadata": {},
   "source": [
    "# Log Scale"
   ]
  },
  {
   "cell_type": "code",
   "execution_count": 19,
   "id": "e0bae57d",
   "metadata": {},
   "outputs": [],
   "source": [
    "df_cdn_frequency['log_freq']=np.log10(df_cdn_frequency.requests)"
   ]
  },
  {
   "cell_type": "code",
   "execution_count": 20,
   "id": "cae7881b",
   "metadata": {},
   "outputs": [
    {
     "data": {
      "text/html": [
       "<div>\n",
       "<style scoped>\n",
       "    .dataframe tbody tr th:only-of-type {\n",
       "        vertical-align: middle;\n",
       "    }\n",
       "\n",
       "    .dataframe tbody tr th {\n",
       "        vertical-align: top;\n",
       "    }\n",
       "\n",
       "    .dataframe thead th {\n",
       "        text-align: right;\n",
       "    }\n",
       "</style>\n",
       "<table border=\"1\" class=\"dataframe\">\n",
       "  <thead>\n",
       "    <tr style=\"text-align: right;\">\n",
       "      <th></th>\n",
       "      <th>uid</th>\n",
       "      <th>livechannel</th>\n",
       "      <th>requests</th>\n",
       "      <th>rating</th>\n",
       "      <th>log_freq</th>\n",
       "    </tr>\n",
       "  </thead>\n",
       "  <tbody>\n",
       "    <tr>\n",
       "      <th>0</th>\n",
       "      <td>0</td>\n",
       "      <td>0</td>\n",
       "      <td>16634</td>\n",
       "      <td>3</td>\n",
       "      <td>4.220997</td>\n",
       "    </tr>\n",
       "    <tr>\n",
       "      <th>1</th>\n",
       "      <td>1</td>\n",
       "      <td>1</td>\n",
       "      <td>18038</td>\n",
       "      <td>3</td>\n",
       "      <td>4.256188</td>\n",
       "    </tr>\n",
       "    <tr>\n",
       "      <th>2</th>\n",
       "      <td>2</td>\n",
       "      <td>2</td>\n",
       "      <td>3019</td>\n",
       "      <td>1</td>\n",
       "      <td>3.479863</td>\n",
       "    </tr>\n",
       "    <tr>\n",
       "      <th>3</th>\n",
       "      <td>3</td>\n",
       "      <td>3</td>\n",
       "      <td>18034</td>\n",
       "      <td>3</td>\n",
       "      <td>4.256092</td>\n",
       "    </tr>\n",
       "    <tr>\n",
       "      <th>4</th>\n",
       "      <td>4</td>\n",
       "      <td>3</td>\n",
       "      <td>406</td>\n",
       "      <td>1</td>\n",
       "      <td>2.608526</td>\n",
       "    </tr>\n",
       "    <tr>\n",
       "      <th>...</th>\n",
       "      <td>...</td>\n",
       "      <td>...</td>\n",
       "      <td>...</td>\n",
       "      <td>...</td>\n",
       "      <td>...</td>\n",
       "    </tr>\n",
       "    <tr>\n",
       "      <th>1975</th>\n",
       "      <td>1064</td>\n",
       "      <td>8</td>\n",
       "      <td>5</td>\n",
       "      <td>1</td>\n",
       "      <td>0.698970</td>\n",
       "    </tr>\n",
       "    <tr>\n",
       "      <th>1976</th>\n",
       "      <td>1065</td>\n",
       "      <td>79</td>\n",
       "      <td>100</td>\n",
       "      <td>1</td>\n",
       "      <td>2.000000</td>\n",
       "    </tr>\n",
       "    <tr>\n",
       "      <th>1977</th>\n",
       "      <td>1067</td>\n",
       "      <td>116</td>\n",
       "      <td>29</td>\n",
       "      <td>1</td>\n",
       "      <td>1.462398</td>\n",
       "    </tr>\n",
       "    <tr>\n",
       "      <th>1978</th>\n",
       "      <td>1068</td>\n",
       "      <td>2</td>\n",
       "      <td>8</td>\n",
       "      <td>1</td>\n",
       "      <td>0.903090</td>\n",
       "    </tr>\n",
       "    <tr>\n",
       "      <th>1979</th>\n",
       "      <td>1069</td>\n",
       "      <td>13</td>\n",
       "      <td>7</td>\n",
       "      <td>1</td>\n",
       "      <td>0.845098</td>\n",
       "    </tr>\n",
       "  </tbody>\n",
       "</table>\n",
       "<p>1980 rows × 5 columns</p>\n",
       "</div>"
      ],
      "text/plain": [
       "       uid  livechannel  requests  rating  log_freq\n",
       "0        0            0     16634       3  4.220997\n",
       "1        1            1     18038       3  4.256188\n",
       "2        2            2      3019       1  3.479863\n",
       "3        3            3     18034       3  4.256092\n",
       "4        4            3       406       1  2.608526\n",
       "...    ...          ...       ...     ...       ...\n",
       "1975  1064            8         5       1  0.698970\n",
       "1976  1065           79       100       1  2.000000\n",
       "1977  1067          116        29       1  1.462398\n",
       "1978  1068            2         8       1  0.903090\n",
       "1979  1069           13         7       1  0.845098\n",
       "\n",
       "[1980 rows x 5 columns]"
      ]
     },
     "execution_count": 20,
     "metadata": {},
     "output_type": "execute_result"
    }
   ],
   "source": [
    "df_cdn_frequency"
   ]
  },
  {
   "cell_type": "code",
   "execution_count": 21,
   "id": "d33fd541",
   "metadata": {},
   "outputs": [],
   "source": [
    "df_cdn_frequency['log_rating']=np.rint(df_cdn_frequency.log_freq).astype(int)"
   ]
  },
  {
   "cell_type": "code",
   "execution_count": 22,
   "id": "bfff40f5",
   "metadata": {},
   "outputs": [
    {
     "data": {
      "text/html": [
       "<div>\n",
       "<style scoped>\n",
       "    .dataframe tbody tr th:only-of-type {\n",
       "        vertical-align: middle;\n",
       "    }\n",
       "\n",
       "    .dataframe tbody tr th {\n",
       "        vertical-align: top;\n",
       "    }\n",
       "\n",
       "    .dataframe thead th {\n",
       "        text-align: right;\n",
       "    }\n",
       "</style>\n",
       "<table border=\"1\" class=\"dataframe\">\n",
       "  <thead>\n",
       "    <tr style=\"text-align: right;\">\n",
       "      <th></th>\n",
       "      <th>uid</th>\n",
       "      <th>livechannel</th>\n",
       "      <th>requests</th>\n",
       "      <th>rating</th>\n",
       "      <th>log_freq</th>\n",
       "      <th>log_rating</th>\n",
       "    </tr>\n",
       "  </thead>\n",
       "  <tbody>\n",
       "    <tr>\n",
       "      <th>0</th>\n",
       "      <td>0</td>\n",
       "      <td>0</td>\n",
       "      <td>16634</td>\n",
       "      <td>3</td>\n",
       "      <td>4.220997</td>\n",
       "      <td>4</td>\n",
       "    </tr>\n",
       "    <tr>\n",
       "      <th>1</th>\n",
       "      <td>1</td>\n",
       "      <td>1</td>\n",
       "      <td>18038</td>\n",
       "      <td>3</td>\n",
       "      <td>4.256188</td>\n",
       "      <td>4</td>\n",
       "    </tr>\n",
       "    <tr>\n",
       "      <th>2</th>\n",
       "      <td>2</td>\n",
       "      <td>2</td>\n",
       "      <td>3019</td>\n",
       "      <td>1</td>\n",
       "      <td>3.479863</td>\n",
       "      <td>3</td>\n",
       "    </tr>\n",
       "    <tr>\n",
       "      <th>3</th>\n",
       "      <td>3</td>\n",
       "      <td>3</td>\n",
       "      <td>18034</td>\n",
       "      <td>3</td>\n",
       "      <td>4.256092</td>\n",
       "      <td>4</td>\n",
       "    </tr>\n",
       "    <tr>\n",
       "      <th>4</th>\n",
       "      <td>4</td>\n",
       "      <td>3</td>\n",
       "      <td>406</td>\n",
       "      <td>1</td>\n",
       "      <td>2.608526</td>\n",
       "      <td>3</td>\n",
       "    </tr>\n",
       "    <tr>\n",
       "      <th>...</th>\n",
       "      <td>...</td>\n",
       "      <td>...</td>\n",
       "      <td>...</td>\n",
       "      <td>...</td>\n",
       "      <td>...</td>\n",
       "      <td>...</td>\n",
       "    </tr>\n",
       "    <tr>\n",
       "      <th>1975</th>\n",
       "      <td>1064</td>\n",
       "      <td>8</td>\n",
       "      <td>5</td>\n",
       "      <td>1</td>\n",
       "      <td>0.698970</td>\n",
       "      <td>1</td>\n",
       "    </tr>\n",
       "    <tr>\n",
       "      <th>1976</th>\n",
       "      <td>1065</td>\n",
       "      <td>79</td>\n",
       "      <td>100</td>\n",
       "      <td>1</td>\n",
       "      <td>2.000000</td>\n",
       "      <td>2</td>\n",
       "    </tr>\n",
       "    <tr>\n",
       "      <th>1977</th>\n",
       "      <td>1067</td>\n",
       "      <td>116</td>\n",
       "      <td>29</td>\n",
       "      <td>1</td>\n",
       "      <td>1.462398</td>\n",
       "      <td>1</td>\n",
       "    </tr>\n",
       "    <tr>\n",
       "      <th>1978</th>\n",
       "      <td>1068</td>\n",
       "      <td>2</td>\n",
       "      <td>8</td>\n",
       "      <td>1</td>\n",
       "      <td>0.903090</td>\n",
       "      <td>1</td>\n",
       "    </tr>\n",
       "    <tr>\n",
       "      <th>1979</th>\n",
       "      <td>1069</td>\n",
       "      <td>13</td>\n",
       "      <td>7</td>\n",
       "      <td>1</td>\n",
       "      <td>0.845098</td>\n",
       "      <td>1</td>\n",
       "    </tr>\n",
       "  </tbody>\n",
       "</table>\n",
       "<p>1980 rows × 6 columns</p>\n",
       "</div>"
      ],
      "text/plain": [
       "       uid  livechannel  requests  rating  log_freq  log_rating\n",
       "0        0            0     16634       3  4.220997           4\n",
       "1        1            1     18038       3  4.256188           4\n",
       "2        2            2      3019       1  3.479863           3\n",
       "3        3            3     18034       3  4.256092           4\n",
       "4        4            3       406       1  2.608526           3\n",
       "...    ...          ...       ...     ...       ...         ...\n",
       "1975  1064            8         5       1  0.698970           1\n",
       "1976  1065           79       100       1  2.000000           2\n",
       "1977  1067          116        29       1  1.462398           1\n",
       "1978  1068            2         8       1  0.903090           1\n",
       "1979  1069           13         7       1  0.845098           1\n",
       "\n",
       "[1980 rows x 6 columns]"
      ]
     },
     "execution_count": 22,
     "metadata": {},
     "output_type": "execute_result"
    }
   ],
   "source": [
    "df_cdn_frequency"
   ]
  },
  {
   "cell_type": "code",
   "execution_count": 27,
   "id": "af32f5e5",
   "metadata": {},
   "outputs": [],
   "source": [
    "# Train-valid-test split\n",
    "\n",
    "def split_data(data, valid_ratio=0.2, test_ratio=0.2, random_state=42):\n",
    "    train_ratio = 1 - valid_ratio - test_ratio\n",
    "    train, remain = train_test_split(data, test_size=1-train_ratio, random_state=random_state)\n",
    "    valid, test = train_test_split(remain, test_size=test_ratio / (test_ratio + valid_ratio), random_state=random_state)\n",
    "\n",
    "    return train, valid, test"
   ]
  },
  {
   "cell_type": "markdown",
   "id": "d828f327",
   "metadata": {},
   "source": [
    "## Matrix Factorization"
   ]
  },
  {
   "cell_type": "code",
   "execution_count": null,
   "id": "5850659f",
   "metadata": {},
   "outputs": [],
   "source": []
  },
  {
   "cell_type": "markdown",
   "id": "dd515720",
   "metadata": {},
   "source": [
    "### Building user-item matrix and understanding the data"
   ]
  },
  {
   "cell_type": "code",
   "execution_count": null,
   "id": "8969e309",
   "metadata": {},
   "outputs": [],
   "source": []
  },
  {
   "cell_type": "markdown",
   "id": "49d6e44e",
   "metadata": {},
   "source": [
    "### Matrix Factorization Class"
   ]
  },
  {
   "cell_type": "code",
   "execution_count": 23,
   "id": "df51010d",
   "metadata": {},
   "outputs": [],
   "source": [
    "epoch_score = namedtuple('epoch_score', ['epoch', 'train_score', 'valid_score'])\n",
    "\n",
    "\n",
    "class MatrixFactorization:\n",
    "    def __init__(self, R_train, R_valid, R_test, K=None, alpha=None, beta=None, n_iter=10, verbose=True):\n",
    "        \"\"\"\n",
    "        Perform matrix factorization to predict empty\n",
    "        entries in a matrix.\n",
    "\n",
    "        Arguments\n",
    "        - R (ndarray)   : user-item rating matrix for training\n",
    "        - R_test (ndarray) : user-item rating test matrix for testing\n",
    "        - K (int)       : number of latent dimensions\n",
    "        - alpha (float) : learning rate\n",
    "        - beta (float)  : regularization parameter\n",
    "        - n_iter (int)  : number of iterations\n",
    "        - verbose (bool): print loss after every 10 iterations\n",
    "        \"\"\"\n",
    "\n",
    "        self.R_train = R_train\n",
    "        self.R_valid = R_valid\n",
    "        self.R_test = R_test\n",
    "        self.num_users, self.num_items = R_train.shape\n",
    "        self.K = K\n",
    "        self.alpha = alpha\n",
    "        self.beta = beta\n",
    "        self.n_iter = n_iter\n",
    "        self.verbose = verbose\n",
    "\n",
    "    def __initialize_biases(self):\n",
    "        \"\"\"\n",
    "        Initialize the biases\n",
    "        \"\"\"\n",
    "        self.b_u = np.zeros(self.num_users)\n",
    "        self.b_i = np.zeros(self.num_items)\n",
    "        self.b = np.mean(self.R_train[np.where(self.R_train != 0)])\n",
    "\n",
    "    def __initialize_matrices(self):\n",
    "        \"\"\"\n",
    "        Initialize user and item latent feature matrice\n",
    "        \"\"\"\n",
    "        self.P = np.random.normal(scale=1. / self.K, size=(self.num_users, self.K))\n",
    "        self.Q = np.random.normal(scale=1. / self.K, size=(self.num_items, self.K))\n",
    "\n",
    "    def __create_training_samples(self):\n",
    "        self.samples = [\n",
    "            (i, j, self.R_train[i, j])\n",
    "            for i in range(self.num_users)\n",
    "            for j in range(self.num_items)\n",
    "            if self.R_train[i, j] > 0\n",
    "        ]\n",
    "\n",
    "    def __sgd(self):\n",
    "        \"\"\"\n",
    "        Perform stochastic gradient descent\n",
    "        \"\"\"\n",
    "        for i, j, r in self.samples:\n",
    "            # Computer prediction and error\n",
    "            prediction = self.predict(i, j)\n",
    "            e = (r - prediction)\n",
    "\n",
    "            # Update biases\n",
    "            self.b_u[i] += self.alpha * (e - self.beta * self.b_u[i])\n",
    "            self.b_i[j] += self.alpha * (e - self.beta * self.b_i[j])\n",
    "\n",
    "            # Update user and item latent feature matrices\n",
    "            self.P[i, :] += self.alpha * (e * self.Q[j, :] - self.beta * self.P[i, :])\n",
    "            self.Q[j, :] += self.alpha * (e * self.P[i, :] - self.beta * self.Q[j, :])\n",
    "\n",
    "    def set_params(self, **params):\n",
    "        \"\"\"\n",
    "        Set the parameters of the model\n",
    "        \"\"\"\n",
    "        self.__dict__.update(params)\n",
    "\n",
    "    def score_function(self, matrix):\n",
    "        \"\"\"\n",
    "        Compute the score of the matrix factorization model (MSE)\n",
    "        \"\"\"\n",
    "        xs, ys = matrix.nonzero()\n",
    "        predicted = self.full_matrix()\n",
    "        error = 0\n",
    "        for x, y in zip(xs, ys):\n",
    "            error += pow(matrix[x, y] - predicted[x, y], 2)\n",
    "        return np.sqrt(error)\n",
    "\n",
    "    def train_score(self):\n",
    "        \"\"\"\n",
    "        Computer the score of the matrix factorization model (MSE)\n",
    "        \"\"\"\n",
    "        return self.score_function(self.R_train)\n",
    "\n",
    "    def test_score(self):\n",
    "        \"\"\"\n",
    "        Computer the score of the matrix factorization model (MSE)\n",
    "        \"\"\"\n",
    "        return self.score_function(self.R_test)\n",
    "\n",
    "    def valid_score(self):\n",
    "        \"\"\"\n",
    "        Computer the score of the matrix factorization model (MSE)\n",
    "        \"\"\"\n",
    "        return self.score_function(self.R_valid)\n",
    "\n",
    "    def train(self):\n",
    "        # Initialize user and item latent feature matrices\n",
    "        self.__initialize_matrices()\n",
    "\n",
    "        # Initialize biases\n",
    "        self.__initialize_biases()\n",
    "\n",
    "        # Create a list of training samples\n",
    "        self.__create_training_samples()\n",
    "\n",
    "        # Perform stochastic gradient descent for number of iterations\n",
    "        training_process = []\n",
    "        for i in range(self.n_iter):\n",
    "            np.random.shuffle(self.samples)\n",
    "            self.__sgd()\n",
    "            train_score = self.train_score()\n",
    "            valid_score = self.valid_score()\n",
    "            training_process.append(epoch_score(epoch=i, train_score=train_score, valid_score=valid_score))\n",
    "            if (i + 1) % 10 == 0 and self.verbose:\n",
    "                print('Iteration: {} ; Training error {}; Validation error {}'.format(i + 1, train_score, valid_score))\n",
    "\n",
    "        return training_process\n",
    "\n",
    "    def predict(self, i, j):\n",
    "        \"\"\"\n",
    "        Get the predicted rating of user i and item j\n",
    "        \"\"\"\n",
    "        prediction = self.b + self.b_u[i] + self.b_i[j] + self.P[i, :].dot(self.Q[j, :].T)\n",
    "        return prediction\n",
    "\n",
    "    def full_matrix(self):\n",
    "        \"\"\"\n",
    "        Computer the full matrix using the resultant biases, P and Q\n",
    "        \"\"\"\n",
    "        return self.b + self.b_u[:, np.newaxis] + self.b_i[np.newaxis:, ] + self.P.dot(self.Q.T)\n"
   ]
  },
  {
   "cell_type": "code",
   "execution_count": null,
   "id": "8fd90420",
   "metadata": {},
   "outputs": [],
   "source": []
  },
  {
   "cell_type": "markdown",
   "id": "7ddb00a3",
   "metadata": {},
   "source": [
    "## Custom GridSearch Class"
   ]
  },
  {
   "cell_type": "code",
   "execution_count": 26,
   "id": "23411524",
   "metadata": {},
   "outputs": [],
   "source": [
    "result_tuple = namedtuple('result_tuple', ['parameters', 'scores'])\n",
    "\n",
    "\n",
    "class CustomGridSearch:\n",
    "    def __init__(self, estimator, param_grid: Dict[str, Iterable[Any]]):\n",
    "        self.estimator = estimator\n",
    "        self.param_grid = param_grid\n",
    "        self.cv_results = list()\n",
    "        self.best_params = None\n",
    "        self.best_score = None\n",
    "\n",
    "    def __parameters_grid_generator(self) -> Iterable[Dict[str, Any]]:\n",
    "        \"\"\"\n",
    "        Generates a list of dictionaries with all possible combinations of parameters\n",
    "        \"\"\"\n",
    "        for params in product(*self.param_grid.values()):\n",
    "            yield dict(zip(self.param_grid.keys(), params))\n",
    "\n",
    "    def fit(self):\n",
    "        \"\"\"\n",
    "        Fits the estimator with all possible combinations of parameters\n",
    "        \"\"\"\n",
    "        for params in self.__parameters_grid_generator():\n",
    "            self.estimator.set_params(**params)\n",
    "            print(f'Training with params: {params}')\n",
    "            training_process = self.estimator.train()\n",
    "            last_epoch_valid_score = training_process[-1].valid_score\n",
    "            if self.best_score is None or last_epoch_valid_score < self.best_score:\n",
    "                self.best_score = last_epoch_valid_score\n",
    "                self.best_params = params\n",
    "            self.cv_results.append(result_tuple(parameters=params, scores=training_process))\n"
   ]
  },
  {
   "cell_type": "markdown",
   "id": "fdf8d0ad",
   "metadata": {},
   "source": [
    "### Doing the GridSearch"
   ]
  },
  {
   "cell_type": "code",
   "execution_count": null,
   "id": "977d276a",
   "metadata": {},
   "outputs": [],
   "source": [
    "#splitting the sets\n",
    "train, valid, test = split_data(df_cdn_frequency)"
   ]
  },
  {
   "cell_type": "code",
   "execution_count": null,
   "id": "c592feba",
   "metadata": {},
   "outputs": [],
   "source": [
    "train"
   ]
  },
  {
   "cell_type": "code",
   "execution_count": null,
   "id": "31637750",
   "metadata": {},
   "outputs": [],
   "source": [
    "# print(freq_tab_arr)\n",
    "# print('num users:',len(freq_tab_arr))\n",
    "# print('num items:',len(freq_tab_arr[0]))"
   ]
  },
  {
   "cell_type": "code",
   "execution_count": null,
   "id": "e16d9d04",
   "metadata": {},
   "outputs": [],
   "source": [
    "R_train = scale_frequencies(construct_frequency_table(train))\n",
    "R_valid = scale_frequencies(construct_frequency_table(valid))\n",
    "R_test = scale_frequencies(construct_frequency_table(test))"
   ]
  },
  {
   "cell_type": "code",
   "execution_count": null,
   "id": "e89a86c1",
   "metadata": {},
   "outputs": [],
   "source": [
    "print(R_train)\n",
    "print('num users:',len(R_train))\n",
    "print('num items:',len(R_train[0]))"
   ]
  },
  {
   "cell_type": "code",
   "execution_count": null,
   "id": "0da1867a",
   "metadata": {},
   "outputs": [],
   "source": [
    "# Defining k_max\n",
    "k_max = min(len(R_train), len(R_train[0]))\n",
    "k_max"
   ]
  },
  {
   "cell_type": "code",
   "execution_count": null,
   "id": "57199302",
   "metadata": {},
   "outputs": [],
   "source": []
  },
  {
   "cell_type": "markdown",
   "id": "02e135c3",
   "metadata": {},
   "source": [
    "### Round 1"
   ]
  },
  {
   "cell_type": "code",
   "execution_count": null,
   "id": "40497d7b",
   "metadata": {},
   "outputs": [],
   "source": [
    "#The parameters we want to try\n",
    "params_grid = {\n",
    "    'K': list(range(120, k_max, 1)),\n",
    "    'alpha': [r/1000 for r in range(1,10)],\n",
    "    'beta': [r/100 for r in range(1,10)],\n",
    "}"
   ]
  },
  {
   "cell_type": "code",
   "execution_count": null,
   "id": "bd796c18",
   "metadata": {},
   "outputs": [],
   "source": [
    "#Intializing the model\n",
    "model = MatrixFactorization(R_train, R_valid, R_test, n_iter=100)"
   ]
  },
  {
   "cell_type": "code",
   "execution_count": null,
   "id": "0029342a",
   "metadata": {},
   "outputs": [],
   "source": [
    "gridsearch = CustomGridSearch(model, params_grid)"
   ]
  },
  {
   "cell_type": "code",
   "execution_count": null,
   "id": "58ba0acd",
   "metadata": {},
   "outputs": [],
   "source": [
    "gridsearch.fit()"
   ]
  },
  {
   "cell_type": "code",
   "execution_count": null,
   "id": "1cfd6527",
   "metadata": {},
   "outputs": [],
   "source": [
    "gridsearch.best_score"
   ]
  },
  {
   "cell_type": "code",
   "execution_count": null,
   "id": "b6b494a8",
   "metadata": {},
   "outputs": [],
   "source": [
    "gridsearch.best_params"
   ]
  },
  {
   "cell_type": "code",
   "execution_count": null,
   "id": "a1652294",
   "metadata": {},
   "outputs": [],
   "source": []
  },
  {
   "cell_type": "markdown",
   "id": "fef59c62",
   "metadata": {},
   "source": [
    "### Round 2"
   ]
  },
  {
   "cell_type": "code",
   "execution_count": null,
   "id": "174e71fe",
   "metadata": {
    "scrolled": true
   },
   "outputs": [],
   "source": [
    "#The parameters we want to try\n",
    "params_grid = {\n",
    "    'K': list(range(1, k_max, 1)),\n",
    "    'alpha': [0.1, 0.2, 0.3],\n",
    "    'beta': [0.02],\n",
    "}"
   ]
  },
  {
   "cell_type": "code",
   "execution_count": null,
   "id": "23827487",
   "metadata": {},
   "outputs": [],
   "source": [
    "#Intializing the model\n",
    "model = MatrixFactorization(R_train, R_valid, R_test, n_iter=100)"
   ]
  },
  {
   "cell_type": "code",
   "execution_count": null,
   "id": "c612f963",
   "metadata": {},
   "outputs": [],
   "source": [
    "gridsearch = CustomGridSearch(model, params_grid)"
   ]
  },
  {
   "cell_type": "code",
   "execution_count": null,
   "id": "3f700465",
   "metadata": {},
   "outputs": [],
   "source": [
    "gridsearch.fit()"
   ]
  },
  {
   "cell_type": "code",
   "execution_count": null,
   "id": "f9cc0314",
   "metadata": {},
   "outputs": [],
   "source": [
    "gridsearch.best_score"
   ]
  },
  {
   "cell_type": "code",
   "execution_count": null,
   "id": "8d724ca4",
   "metadata": {},
   "outputs": [],
   "source": [
    "gridsearch.best_params"
   ]
  },
  {
   "cell_type": "code",
   "execution_count": null,
   "id": "d95e0232",
   "metadata": {},
   "outputs": [],
   "source": []
  },
  {
   "cell_type": "markdown",
   "id": "aaf779b4",
   "metadata": {},
   "source": [
    "## Train a model with the recommended parameters"
   ]
  },
  {
   "cell_type": "code",
   "execution_count": 29,
   "id": "f0050cba",
   "metadata": {},
   "outputs": [],
   "source": [
    "params = {'K': 50, 'alpha': 0.2, 'beta': 1e-05}"
   ]
  },
  {
   "cell_type": "code",
   "execution_count": null,
   "id": "3360e71f",
   "metadata": {},
   "outputs": [],
   "source": [
    "best_model = MatrixFactorization(R=my_tab_arr, n_iter=100, **params)"
   ]
  },
  {
   "cell_type": "code",
   "execution_count": null,
   "id": "b347aaf9",
   "metadata": {},
   "outputs": [],
   "source": [
    "training_process = best_model.train()"
   ]
  },
  {
   "cell_type": "code",
   "execution_count": null,
   "id": "8793dc81",
   "metadata": {},
   "outputs": [],
   "source": [
    "#plot the training process\n",
    "epochs, scores = zip(*training_process)\n",
    "plt.figure(figsize=(15,7))\n",
    "plt.plot(epochs, scores)\n",
    "plt.xticks(np.arange(0, 101, 5))\n",
    "plt.show()"
   ]
  }
 ],
 "metadata": {
  "kernelspec": {
   "display_name": "Python 3",
   "language": "python",
   "name": "python3"
  },
  "language_info": {
   "codemirror_mode": {
    "name": "ipython",
    "version": 3
   },
   "file_extension": ".py",
   "mimetype": "text/x-python",
   "name": "python",
   "nbconvert_exporter": "python",
   "pygments_lexer": "ipython3",
   "version": "3.9.5"
  }
 },
 "nbformat": 4,
 "nbformat_minor": 5
}
